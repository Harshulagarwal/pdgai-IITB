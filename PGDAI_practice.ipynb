{
 "cells": [
  {
   "cell_type": "code",
   "execution_count": 1,
   "id": "74ce5ee0",
   "metadata": {},
   "outputs": [],
   "source": [
    "import pandas as pd"
   ]
  },
  {
   "cell_type": "code",
   "execution_count": 12,
   "id": "79cea4e9",
   "metadata": {},
   "outputs": [],
   "source": [
    "df = pd.read_excel('C:/Users/harsh/Downloads/pgdai/EDA/datasets/censusdata.xlsx')"
   ]
  },
  {
   "cell_type": "code",
   "execution_count": 13,
   "id": "1420a2e7",
   "metadata": {},
   "outputs": [
    {
     "data": {
      "text/html": [
       "<div>\n",
       "<style scoped>\n",
       "    .dataframe tbody tr th:only-of-type {\n",
       "        vertical-align: middle;\n",
       "    }\n",
       "\n",
       "    .dataframe tbody tr th {\n",
       "        vertical-align: top;\n",
       "    }\n",
       "\n",
       "    .dataframe thead th {\n",
       "        text-align: right;\n",
       "    }\n",
       "</style>\n",
       "<table border=\"1\" class=\"dataframe\">\n",
       "  <thead>\n",
       "    <tr style=\"text-align: right;\">\n",
       "      <th></th>\n",
       "      <th>Unnamed: 0</th>\n",
       "      <th>Unnamed: 1</th>\n",
       "      <th>Unnamed: 2</th>\n",
       "      <th>Unnamed: 3</th>\n",
       "      <th>Unnamed: 4</th>\n",
       "      <th>C-8  EDUCATIONAL LEVEL BY AGE AND SEX FOR POPULATION AGE 7 AND ABOVE - 2011</th>\n",
       "      <th>Unnamed: 6</th>\n",
       "      <th>Unnamed: 7</th>\n",
       "      <th>Unnamed: 8</th>\n",
       "      <th>Unnamed: 9</th>\n",
       "      <th>...</th>\n",
       "      <th>Unnamed: 36</th>\n",
       "      <th>Unnamed: 37</th>\n",
       "      <th>Unnamed: 38</th>\n",
       "      <th>Unnamed: 39</th>\n",
       "      <th>Unnamed: 40</th>\n",
       "      <th>Unnamed: 41</th>\n",
       "      <th>Unnamed: 42</th>\n",
       "      <th>Unnamed: 43</th>\n",
       "      <th>Unnamed: 44</th>\n",
       "      <th>Unnamed: 45</th>\n",
       "    </tr>\n",
       "  </thead>\n",
       "  <tbody>\n",
       "    <tr>\n",
       "      <th>0</th>\n",
       "      <td>Table</td>\n",
       "      <td>State</td>\n",
       "      <td>Distt.</td>\n",
       "      <td>Area Name</td>\n",
       "      <td>Total/</td>\n",
       "      <td>Age-group</td>\n",
       "      <td>Total</td>\n",
       "      <td>NaN</td>\n",
       "      <td>NaN</td>\n",
       "      <td>Illiterate</td>\n",
       "      <td>...</td>\n",
       "      <td>NaN</td>\n",
       "      <td>NaN</td>\n",
       "      <td>NaN</td>\n",
       "      <td>NaN</td>\n",
       "      <td>NaN</td>\n",
       "      <td>NaN</td>\n",
       "      <td>NaN</td>\n",
       "      <td>NaN</td>\n",
       "      <td>NaN</td>\n",
       "      <td>NaN</td>\n",
       "    </tr>\n",
       "    <tr>\n",
       "      <th>1</th>\n",
       "      <td>Name</td>\n",
       "      <td>Code</td>\n",
       "      <td>Code</td>\n",
       "      <td>NaN</td>\n",
       "      <td>Rural/</td>\n",
       "      <td>NaN</td>\n",
       "      <td>NaN</td>\n",
       "      <td>NaN</td>\n",
       "      <td>NaN</td>\n",
       "      <td>NaN</td>\n",
       "      <td>...</td>\n",
       "      <td>Technical diploma or certificate</td>\n",
       "      <td>NaN</td>\n",
       "      <td>NaN</td>\n",
       "      <td>Graduate &amp; above</td>\n",
       "      <td>NaN</td>\n",
       "      <td>NaN</td>\n",
       "      <td>Unclassified</td>\n",
       "      <td>NaN</td>\n",
       "      <td>NaN</td>\n",
       "      <td>NaN</td>\n",
       "    </tr>\n",
       "    <tr>\n",
       "      <th>2</th>\n",
       "      <td>NaN</td>\n",
       "      <td>NaN</td>\n",
       "      <td>NaN</td>\n",
       "      <td>NaN</td>\n",
       "      <td>Urban/</td>\n",
       "      <td>NaN</td>\n",
       "      <td>NaN</td>\n",
       "      <td>NaN</td>\n",
       "      <td>NaN</td>\n",
       "      <td>NaN</td>\n",
       "      <td>...</td>\n",
       "      <td>not equal to degree</td>\n",
       "      <td>NaN</td>\n",
       "      <td>NaN</td>\n",
       "      <td>NaN</td>\n",
       "      <td>NaN</td>\n",
       "      <td>NaN</td>\n",
       "      <td>NaN</td>\n",
       "      <td>NaN</td>\n",
       "      <td>NaN</td>\n",
       "      <td>NaN</td>\n",
       "    </tr>\n",
       "    <tr>\n",
       "      <th>3</th>\n",
       "      <td>NaN</td>\n",
       "      <td>NaN</td>\n",
       "      <td>NaN</td>\n",
       "      <td>NaN</td>\n",
       "      <td>NaN</td>\n",
       "      <td>NaN</td>\n",
       "      <td>Persons</td>\n",
       "      <td>Males</td>\n",
       "      <td>Females</td>\n",
       "      <td>Persons</td>\n",
       "      <td>...</td>\n",
       "      <td>Persons</td>\n",
       "      <td>Males</td>\n",
       "      <td>Females</td>\n",
       "      <td>Persons</td>\n",
       "      <td>Males</td>\n",
       "      <td>Females</td>\n",
       "      <td>Persons</td>\n",
       "      <td>Males</td>\n",
       "      <td>Females</td>\n",
       "      <td>NaN</td>\n",
       "    </tr>\n",
       "    <tr>\n",
       "      <th>4</th>\n",
       "      <td>NaN</td>\n",
       "      <td>NaN</td>\n",
       "      <td>NaN</td>\n",
       "      <td>NaN</td>\n",
       "      <td>NaN</td>\n",
       "      <td>1</td>\n",
       "      <td>2</td>\n",
       "      <td>3</td>\n",
       "      <td>4</td>\n",
       "      <td>5</td>\n",
       "      <td>...</td>\n",
       "      <td>32</td>\n",
       "      <td>33</td>\n",
       "      <td>34</td>\n",
       "      <td>35</td>\n",
       "      <td>36</td>\n",
       "      <td>37</td>\n",
       "      <td>38</td>\n",
       "      <td>39</td>\n",
       "      <td>40</td>\n",
       "      <td>NaN</td>\n",
       "    </tr>\n",
       "  </tbody>\n",
       "</table>\n",
       "<p>5 rows × 46 columns</p>\n",
       "</div>"
      ],
      "text/plain": [
       "  Unnamed: 0 Unnamed: 1 Unnamed: 2 Unnamed: 3 Unnamed: 4  \\\n",
       "0      Table      State     Distt.  Area Name     Total/   \n",
       "1       Name       Code       Code        NaN     Rural/   \n",
       "2        NaN        NaN        NaN        NaN     Urban/   \n",
       "3        NaN        NaN        NaN        NaN        NaN   \n",
       "4        NaN        NaN        NaN        NaN        NaN   \n",
       "\n",
       "  C-8  EDUCATIONAL LEVEL BY AGE AND SEX FOR POPULATION AGE 7 AND ABOVE - 2011  \\\n",
       "0                                          Age-group                            \n",
       "1                                                NaN                            \n",
       "2                                                NaN                            \n",
       "3                                                NaN                            \n",
       "4                                                  1                            \n",
       "\n",
       "  Unnamed: 6 Unnamed: 7 Unnamed: 8  Unnamed: 9  ...  \\\n",
       "0      Total        NaN        NaN  Illiterate  ...   \n",
       "1        NaN        NaN        NaN         NaN  ...   \n",
       "2        NaN        NaN        NaN         NaN  ...   \n",
       "3    Persons      Males    Females     Persons  ...   \n",
       "4          2          3          4           5  ...   \n",
       "\n",
       "                        Unnamed: 36 Unnamed: 37 Unnamed: 38       Unnamed: 39  \\\n",
       "0                               NaN         NaN         NaN               NaN   \n",
       "1  Technical diploma or certificate         NaN         NaN  Graduate & above   \n",
       "2              not equal to degree          NaN         NaN               NaN   \n",
       "3                           Persons       Males     Females           Persons   \n",
       "4                                32          33          34                35   \n",
       "\n",
       "  Unnamed: 40 Unnamed: 41   Unnamed: 42 Unnamed: 43 Unnamed: 44 Unnamed: 45  \n",
       "0         NaN         NaN           NaN         NaN         NaN         NaN  \n",
       "1         NaN         NaN  Unclassified         NaN         NaN         NaN  \n",
       "2         NaN         NaN           NaN         NaN         NaN         NaN  \n",
       "3       Males     Females       Persons       Males     Females         NaN  \n",
       "4          36          37            38          39          40         NaN  \n",
       "\n",
       "[5 rows x 46 columns]"
      ]
     },
     "execution_count": 13,
     "metadata": {},
     "output_type": "execute_result"
    }
   ],
   "source": [
    "df.head()"
   ]
  },
  {
   "cell_type": "code",
   "execution_count": 4,
   "id": "2ed3e2db",
   "metadata": {},
   "outputs": [
    {
     "data": {
      "text/plain": [
       "Communication & Broadcast Equipments    1\n",
       "Total                                   1\n",
       "Computer                                1\n",
       "Consumer Electronics                    1\n",
       "Industrial Electronics                  1\n",
       "Computer Software                       1\n",
       "Electronics Components                  1\n",
       "Sub-Total                               1\n",
       "Name: Item, dtype: int64"
      ]
     },
     "execution_count": 4,
     "metadata": {},
     "output_type": "execute_result"
    }
   ],
   "source": [
    "df.Item.value_counts()"
   ]
  },
  {
   "cell_type": "code",
   "execution_count": 5,
   "id": "84770949",
   "metadata": {},
   "outputs": [
    {
     "data": {
      "text/html": [
       "<div>\n",
       "<style scoped>\n",
       "    .dataframe tbody tr th:only-of-type {\n",
       "        vertical-align: middle;\n",
       "    }\n",
       "\n",
       "    .dataframe tbody tr th {\n",
       "        vertical-align: top;\n",
       "    }\n",
       "\n",
       "    .dataframe thead th {\n",
       "        text-align: right;\n",
       "    }\n",
       "</style>\n",
       "<table border=\"1\" class=\"dataframe\">\n",
       "  <thead>\n",
       "    <tr style=\"text-align: right;\">\n",
       "      <th></th>\n",
       "      <th>Item</th>\n",
       "      <th>2000-01</th>\n",
       "      <th>2001-02</th>\n",
       "      <th>2002-03</th>\n",
       "      <th>2003-04</th>\n",
       "      <th>2004-05</th>\n",
       "      <th>2005-06</th>\n",
       "      <th>2006-07</th>\n",
       "      <th>2007-08</th>\n",
       "      <th>2008-09</th>\n",
       "      <th>2009-10</th>\n",
       "      <th>2010-11</th>\n",
       "      <th>2011-12 (Estimated)</th>\n",
       "    </tr>\n",
       "  </thead>\n",
       "  <tbody>\n",
       "    <tr>\n",
       "      <th>0</th>\n",
       "      <td>Consumer Electronics</td>\n",
       "      <td>648</td>\n",
       "      <td>700</td>\n",
       "      <td>750</td>\n",
       "      <td>825</td>\n",
       "      <td>1150</td>\n",
       "      <td>2000</td>\n",
       "      <td>1500</td>\n",
       "      <td>1600</td>\n",
       "      <td>2600</td>\n",
       "      <td>3000</td>\n",
       "      <td>1400</td>\n",
       "      <td>NaN</td>\n",
       "    </tr>\n",
       "    <tr>\n",
       "      <th>1</th>\n",
       "      <td>Industrial Electronics</td>\n",
       "      <td>500</td>\n",
       "      <td>950</td>\n",
       "      <td>1400</td>\n",
       "      <td>1515</td>\n",
       "      <td>1500</td>\n",
       "      <td>2300</td>\n",
       "      <td>3000</td>\n",
       "      <td>3885</td>\n",
       "      <td>4200</td>\n",
       "      <td>3500</td>\n",
       "      <td>4500</td>\n",
       "      <td>NaN</td>\n",
       "    </tr>\n",
       "    <tr>\n",
       "      <th>2</th>\n",
       "      <td>Computer</td>\n",
       "      <td>1250</td>\n",
       "      <td>1800</td>\n",
       "      <td>550</td>\n",
       "      <td>1440</td>\n",
       "      <td>1200</td>\n",
       "      <td>1025</td>\n",
       "      <td>1500</td>\n",
       "      <td>990</td>\n",
       "      <td>1650</td>\n",
       "      <td>1900</td>\n",
       "      <td>1300</td>\n",
       "      <td>NaN</td>\n",
       "    </tr>\n",
       "    <tr>\n",
       "      <th>3</th>\n",
       "      <td>Communication &amp; Broadcast Equipments</td>\n",
       "      <td>550</td>\n",
       "      <td>150</td>\n",
       "      <td>500</td>\n",
       "      <td>165</td>\n",
       "      <td>350</td>\n",
       "      <td>500</td>\n",
       "      <td>650</td>\n",
       "      <td>625</td>\n",
       "      <td>12280</td>\n",
       "      <td>7800</td>\n",
       "      <td>14800</td>\n",
       "      <td>NaN</td>\n",
       "    </tr>\n",
       "    <tr>\n",
       "      <th>4</th>\n",
       "      <td>Electronics Components</td>\n",
       "      <td>1840</td>\n",
       "      <td>2200</td>\n",
       "      <td>2400</td>\n",
       "      <td>3755</td>\n",
       "      <td>3800</td>\n",
       "      <td>3800</td>\n",
       "      <td>5850</td>\n",
       "      <td>6100</td>\n",
       "      <td>10500</td>\n",
       "      <td>9700</td>\n",
       "      <td>18400</td>\n",
       "      <td>NaN</td>\n",
       "    </tr>\n",
       "    <tr>\n",
       "      <th>5</th>\n",
       "      <td>Sub-Total</td>\n",
       "      <td>4788</td>\n",
       "      <td>5800</td>\n",
       "      <td>5600</td>\n",
       "      <td>7700</td>\n",
       "      <td>8000</td>\n",
       "      <td>9625</td>\n",
       "      <td>12500</td>\n",
       "      <td>13200</td>\n",
       "      <td>31230</td>\n",
       "      <td>25900</td>\n",
       "      <td>40400</td>\n",
       "      <td>44400.0</td>\n",
       "    </tr>\n",
       "    <tr>\n",
       "      <th>6</th>\n",
       "      <td>Computer Software</td>\n",
       "      <td>28350</td>\n",
       "      <td>36500</td>\n",
       "      <td>46100</td>\n",
       "      <td>58240</td>\n",
       "      <td>80180</td>\n",
       "      <td>104100</td>\n",
       "      <td>141000</td>\n",
       "      <td>164400</td>\n",
       "      <td>216190</td>\n",
       "      <td>237000</td>\n",
       "      <td>268610</td>\n",
       "      <td>332445.0</td>\n",
       "    </tr>\n",
       "    <tr>\n",
       "      <th>7</th>\n",
       "      <td>Total</td>\n",
       "      <td>33138</td>\n",
       "      <td>42300</td>\n",
       "      <td>51700</td>\n",
       "      <td>65940</td>\n",
       "      <td>88180</td>\n",
       "      <td>113725</td>\n",
       "      <td>153500</td>\n",
       "      <td>177600</td>\n",
       "      <td>247420</td>\n",
       "      <td>262900</td>\n",
       "      <td>309010</td>\n",
       "      <td>376845.0</td>\n",
       "    </tr>\n",
       "  </tbody>\n",
       "</table>\n",
       "</div>"
      ],
      "text/plain": [
       "                                   Item  2000-01  2001-02  2002-03  2003-04  \\\n",
       "0                  Consumer Electronics      648      700      750      825   \n",
       "1                Industrial Electronics      500      950     1400     1515   \n",
       "2                              Computer     1250     1800      550     1440   \n",
       "3  Communication & Broadcast Equipments      550      150      500      165   \n",
       "4                Electronics Components     1840     2200     2400     3755   \n",
       "5                             Sub-Total     4788     5800     5600     7700   \n",
       "6                     Computer Software    28350    36500    46100    58240   \n",
       "7                                 Total    33138    42300    51700    65940   \n",
       "\n",
       "   2004-05  2005-06  2006-07  2007-08  2008-09  2009-10  2010-11  \\\n",
       "0     1150     2000     1500     1600     2600     3000     1400   \n",
       "1     1500     2300     3000     3885     4200     3500     4500   \n",
       "2     1200     1025     1500      990     1650     1900     1300   \n",
       "3      350      500      650      625    12280     7800    14800   \n",
       "4     3800     3800     5850     6100    10500     9700    18400   \n",
       "5     8000     9625    12500    13200    31230    25900    40400   \n",
       "6    80180   104100   141000   164400   216190   237000   268610   \n",
       "7    88180   113725   153500   177600   247420   262900   309010   \n",
       "\n",
       "   2011-12 (Estimated)  \n",
       "0                  NaN  \n",
       "1                  NaN  \n",
       "2                  NaN  \n",
       "3                  NaN  \n",
       "4                  NaN  \n",
       "5              44400.0  \n",
       "6             332445.0  \n",
       "7             376845.0  "
      ]
     },
     "execution_count": 5,
     "metadata": {},
     "output_type": "execute_result"
    }
   ],
   "source": [
    "df"
   ]
  },
  {
   "cell_type": "code",
   "execution_count": 14,
   "id": "fc659ff0",
   "metadata": {},
   "outputs": [
    {
     "data": {
      "text/plain": [
       "<function __main__.<lambda>(y)>"
      ]
     },
     "execution_count": 14,
     "metadata": {},
     "output_type": "execute_result"
    }
   ],
   "source": [
    "lambda y: y**2 if(y%2) else y**3"
   ]
  },
  {
   "cell_type": "code",
   "execution_count": 82,
   "id": "fee94ef8",
   "metadata": {},
   "outputs": [
    {
     "name": "stderr",
     "output_type": "stream",
     "text": [
      "C:\\Users\\harsh\\anaconda3\\lib\\site-packages\\urllib3\\connectionpool.py:1013: InsecureRequestWarning: Unverified HTTPS request is being made to host 'query.data.world'. Adding certificate verification is strongly advised. See: https://urllib3.readthedocs.io/en/latest/advanced-usage.html#ssl-warnings\n",
      "  warnings.warn(\n",
      "C:\\Users\\harsh\\anaconda3\\lib\\site-packages\\urllib3\\connectionpool.py:1013: InsecureRequestWarning: Unverified HTTPS request is being made to host 'download.data.world'. Adding certificate verification is strongly advised. See: https://urllib3.readthedocs.io/en/latest/advanced-usage.html#ssl-warnings\n",
      "  warnings.warn(\n"
     ]
    }
   ],
   "source": [
    "import io\n",
    "import requests\n",
    "import pandas as pd\n",
    "c = requests.get('https://query.data.world/s/EX0EpmqwfA2UYGz1Xtd_zi4R0dQpog', verify=False) # copy the query from above code in the respective query\n",
    "s = c.content\n",
    "marks = pd.read_csv(io.StringIO(s.decode('utf-8')))"
   ]
  },
  {
   "cell_type": "code",
   "execution_count": 83,
   "id": "303b7b1b",
   "metadata": {},
   "outputs": [
    {
     "data": {
      "text/html": [
       "<div>\n",
       "<style scoped>\n",
       "    .dataframe tbody tr th:only-of-type {\n",
       "        vertical-align: middle;\n",
       "    }\n",
       "\n",
       "    .dataframe tbody tr th {\n",
       "        vertical-align: top;\n",
       "    }\n",
       "\n",
       "    .dataframe thead th {\n",
       "        text-align: right;\n",
       "    }\n",
       "</style>\n",
       "<table border=\"1\" class=\"dataframe\">\n",
       "  <thead>\n",
       "    <tr style=\"text-align: right;\">\n",
       "      <th></th>\n",
       "      <th>userID</th>\n",
       "      <th>placeID</th>\n",
       "      <th>rating</th>\n",
       "      <th>food_rating</th>\n",
       "      <th>service_rating</th>\n",
       "    </tr>\n",
       "  </thead>\n",
       "  <tbody>\n",
       "    <tr>\n",
       "      <th>0</th>\n",
       "      <td>U1077</td>\n",
       "      <td>135085</td>\n",
       "      <td>2</td>\n",
       "      <td>2</td>\n",
       "      <td>2</td>\n",
       "    </tr>\n",
       "    <tr>\n",
       "      <th>1</th>\n",
       "      <td>U1077</td>\n",
       "      <td>135038</td>\n",
       "      <td>2</td>\n",
       "      <td>2</td>\n",
       "      <td>1</td>\n",
       "    </tr>\n",
       "    <tr>\n",
       "      <th>2</th>\n",
       "      <td>U1077</td>\n",
       "      <td>132825</td>\n",
       "      <td>2</td>\n",
       "      <td>2</td>\n",
       "      <td>2</td>\n",
       "    </tr>\n",
       "    <tr>\n",
       "      <th>3</th>\n",
       "      <td>U1077</td>\n",
       "      <td>135060</td>\n",
       "      <td>1</td>\n",
       "      <td>2</td>\n",
       "      <td>2</td>\n",
       "    </tr>\n",
       "    <tr>\n",
       "      <th>4</th>\n",
       "      <td>U1068</td>\n",
       "      <td>135104</td>\n",
       "      <td>1</td>\n",
       "      <td>1</td>\n",
       "      <td>2</td>\n",
       "    </tr>\n",
       "  </tbody>\n",
       "</table>\n",
       "</div>"
      ],
      "text/plain": [
       "  userID  placeID  rating  food_rating  service_rating\n",
       "0  U1077   135085       2            2               2\n",
       "1  U1077   135038       2            2               1\n",
       "2  U1077   132825       2            2               2\n",
       "3  U1077   135060       1            2               2\n",
       "4  U1068   135104       1            1               2"
      ]
     },
     "execution_count": 83,
     "metadata": {},
     "output_type": "execute_result"
    }
   ],
   "source": [
    "marks.head()"
   ]
  },
  {
   "cell_type": "code",
   "execution_count": 80,
   "id": "9ca3ac31",
   "metadata": {},
   "outputs": [
    {
     "data": {
      "text/plain": [
       "(1254, 5)"
      ]
     },
     "execution_count": 80,
     "metadata": {},
     "output_type": "execute_result"
    }
   ],
   "source": [
    "marks.shape"
   ]
  },
  {
   "cell_type": "code",
   "execution_count": 67,
   "id": "e8618d82",
   "metadata": {},
   "outputs": [
    {
     "data": {
      "text/plain": [
       "2    525\n",
       "1    454\n",
       "0    275\n",
       "Name: rating, dtype: int64"
      ]
     },
     "execution_count": 67,
     "metadata": {},
     "output_type": "execute_result"
    }
   ],
   "source": [
    "marks.rating.value_counts()"
   ]
  },
  {
   "cell_type": "code",
   "execution_count": 73,
   "id": "307b701a",
   "metadata": {},
   "outputs": [],
   "source": [
    "marks['count'] = 1"
   ]
  },
  {
   "cell_type": "code",
   "execution_count": 68,
   "id": "adb2fdb5",
   "metadata": {},
   "outputs": [],
   "source": [
    "marks['placeID'] = marks['placeID'].astype('str')"
   ]
  },
  {
   "cell_type": "code",
   "execution_count": 69,
   "id": "cb9cc9e6",
   "metadata": {},
   "outputs": [],
   "source": [
    "marks[\"id\"] = marks['userID'].str.cat(marks[\"placeID\"],' ')"
   ]
  },
  {
   "cell_type": "code",
   "execution_count": 41,
   "id": "de8d3bbc",
   "metadata": {},
   "outputs": [],
   "source": [
    "# df = marks.groupby(['userID','placeID']).sum()"
   ]
  },
  {
   "cell_type": "code",
   "execution_count": 42,
   "id": "19e10664",
   "metadata": {},
   "outputs": [
    {
     "data": {
      "text/plain": [
       "1    1044\n",
       "2     105\n",
       "Name: count, dtype: int64"
      ]
     },
     "execution_count": 42,
     "metadata": {},
     "output_type": "execute_result"
    }
   ],
   "source": [
    "# df['count'].value_counts()"
   ]
  },
  {
   "cell_type": "code",
   "execution_count": 47,
   "id": "a80c216c",
   "metadata": {},
   "outputs": [],
   "source": [
    "# df1 = df[~df['count']<2]"
   ]
  },
  {
   "cell_type": "code",
   "execution_count": 70,
   "id": "a94ad4f6",
   "metadata": {},
   "outputs": [
    {
     "data": {
      "text/html": [
       "<div>\n",
       "<style scoped>\n",
       "    .dataframe tbody tr th:only-of-type {\n",
       "        vertical-align: middle;\n",
       "    }\n",
       "\n",
       "    .dataframe tbody tr th {\n",
       "        vertical-align: top;\n",
       "    }\n",
       "\n",
       "    .dataframe thead th {\n",
       "        text-align: right;\n",
       "    }\n",
       "</style>\n",
       "<table border=\"1\" class=\"dataframe\">\n",
       "  <thead>\n",
       "    <tr style=\"text-align: right;\">\n",
       "      <th></th>\n",
       "      <th>userID</th>\n",
       "      <th>placeID</th>\n",
       "      <th>rating</th>\n",
       "      <th>food_rating</th>\n",
       "      <th>service_rating</th>\n",
       "      <th>id</th>\n",
       "    </tr>\n",
       "  </thead>\n",
       "  <tbody>\n",
       "    <tr>\n",
       "      <th>0</th>\n",
       "      <td>U1077</td>\n",
       "      <td>135085</td>\n",
       "      <td>2</td>\n",
       "      <td>2</td>\n",
       "      <td>2</td>\n",
       "      <td>U1077 135085</td>\n",
       "    </tr>\n",
       "    <tr>\n",
       "      <th>1</th>\n",
       "      <td>U1077</td>\n",
       "      <td>135038</td>\n",
       "      <td>2</td>\n",
       "      <td>2</td>\n",
       "      <td>1</td>\n",
       "      <td>U1077 135038</td>\n",
       "    </tr>\n",
       "    <tr>\n",
       "      <th>2</th>\n",
       "      <td>U1077</td>\n",
       "      <td>132825</td>\n",
       "      <td>2</td>\n",
       "      <td>2</td>\n",
       "      <td>2</td>\n",
       "      <td>U1077 132825</td>\n",
       "    </tr>\n",
       "    <tr>\n",
       "      <th>3</th>\n",
       "      <td>U1077</td>\n",
       "      <td>135060</td>\n",
       "      <td>1</td>\n",
       "      <td>2</td>\n",
       "      <td>2</td>\n",
       "      <td>U1077 135060</td>\n",
       "    </tr>\n",
       "    <tr>\n",
       "      <th>4</th>\n",
       "      <td>U1068</td>\n",
       "      <td>135104</td>\n",
       "      <td>1</td>\n",
       "      <td>1</td>\n",
       "      <td>2</td>\n",
       "      <td>U1068 135104</td>\n",
       "    </tr>\n",
       "  </tbody>\n",
       "</table>\n",
       "</div>"
      ],
      "text/plain": [
       "  userID placeID  rating  food_rating  service_rating            id\n",
       "0  U1077  135085       2            2               2  U1077 135085\n",
       "1  U1077  135038       2            2               1  U1077 135038\n",
       "2  U1077  132825       2            2               2  U1077 132825\n",
       "3  U1077  135060       1            2               2  U1077 135060\n",
       "4  U1068  135104       1            1               2  U1068 135104"
      ]
     },
     "execution_count": 70,
     "metadata": {},
     "output_type": "execute_result"
    }
   ],
   "source": [
    "marks.head()"
   ]
  },
  {
   "cell_type": "code",
   "execution_count": 74,
   "id": "5c6f923e",
   "metadata": {},
   "outputs": [],
   "source": [
    "df = marks.groupby('id').sum()"
   ]
  },
  {
   "cell_type": "code",
   "execution_count": 76,
   "id": "a118c158",
   "metadata": {},
   "outputs": [
    {
     "data": {
      "text/plain": [
       "1    1044\n",
       "2     105\n",
       "Name: count, dtype: int64"
      ]
     },
     "execution_count": 76,
     "metadata": {},
     "output_type": "execute_result"
    }
   ],
   "source": [
    "df['count'].value_counts()"
   ]
  },
  {
   "cell_type": "code",
   "execution_count": 84,
   "id": "a2bdbfd0",
   "metadata": {},
   "outputs": [
    {
     "data": {
      "text/html": [
       "<div>\n",
       "<style scoped>\n",
       "    .dataframe tbody tr th:only-of-type {\n",
       "        vertical-align: middle;\n",
       "    }\n",
       "\n",
       "    .dataframe tbody tr th {\n",
       "        vertical-align: top;\n",
       "    }\n",
       "\n",
       "    .dataframe thead th {\n",
       "        text-align: right;\n",
       "    }\n",
       "</style>\n",
       "<table border=\"1\" class=\"dataframe\">\n",
       "  <thead>\n",
       "    <tr style=\"text-align: right;\">\n",
       "      <th></th>\n",
       "      <th>userID</th>\n",
       "      <th>placeID</th>\n",
       "      <th>rating</th>\n",
       "      <th>food_rating</th>\n",
       "      <th>service_rating</th>\n",
       "    </tr>\n",
       "  </thead>\n",
       "  <tbody>\n",
       "    <tr>\n",
       "      <th>0</th>\n",
       "      <td>U1077</td>\n",
       "      <td>135085</td>\n",
       "      <td>2</td>\n",
       "      <td>2</td>\n",
       "      <td>2</td>\n",
       "    </tr>\n",
       "    <tr>\n",
       "      <th>1</th>\n",
       "      <td>U1077</td>\n",
       "      <td>135038</td>\n",
       "      <td>2</td>\n",
       "      <td>2</td>\n",
       "      <td>1</td>\n",
       "    </tr>\n",
       "    <tr>\n",
       "      <th>2</th>\n",
       "      <td>U1077</td>\n",
       "      <td>132825</td>\n",
       "      <td>2</td>\n",
       "      <td>2</td>\n",
       "      <td>2</td>\n",
       "    </tr>\n",
       "    <tr>\n",
       "      <th>3</th>\n",
       "      <td>U1077</td>\n",
       "      <td>135060</td>\n",
       "      <td>1</td>\n",
       "      <td>2</td>\n",
       "      <td>2</td>\n",
       "    </tr>\n",
       "    <tr>\n",
       "      <th>4</th>\n",
       "      <td>U1068</td>\n",
       "      <td>135104</td>\n",
       "      <td>1</td>\n",
       "      <td>1</td>\n",
       "      <td>2</td>\n",
       "    </tr>\n",
       "    <tr>\n",
       "      <th>...</th>\n",
       "      <td>...</td>\n",
       "      <td>...</td>\n",
       "      <td>...</td>\n",
       "      <td>...</td>\n",
       "      <td>...</td>\n",
       "    </tr>\n",
       "    <tr>\n",
       "      <th>1249</th>\n",
       "      <td>U1043</td>\n",
       "      <td>132630</td>\n",
       "      <td>1</td>\n",
       "      <td>1</td>\n",
       "      <td>1</td>\n",
       "    </tr>\n",
       "    <tr>\n",
       "      <th>1250</th>\n",
       "      <td>U1011</td>\n",
       "      <td>132715</td>\n",
       "      <td>1</td>\n",
       "      <td>1</td>\n",
       "      <td>0</td>\n",
       "    </tr>\n",
       "    <tr>\n",
       "      <th>1251</th>\n",
       "      <td>U1068</td>\n",
       "      <td>132733</td>\n",
       "      <td>1</td>\n",
       "      <td>1</td>\n",
       "      <td>0</td>\n",
       "    </tr>\n",
       "    <tr>\n",
       "      <th>1252</th>\n",
       "      <td>U1068</td>\n",
       "      <td>132594</td>\n",
       "      <td>1</td>\n",
       "      <td>1</td>\n",
       "      <td>1</td>\n",
       "    </tr>\n",
       "    <tr>\n",
       "      <th>1253</th>\n",
       "      <td>U1068</td>\n",
       "      <td>132660</td>\n",
       "      <td>0</td>\n",
       "      <td>0</td>\n",
       "      <td>0</td>\n",
       "    </tr>\n",
       "  </tbody>\n",
       "</table>\n",
       "<p>1149 rows × 5 columns</p>\n",
       "</div>"
      ],
      "text/plain": [
       "     userID  placeID  rating  food_rating  service_rating\n",
       "0     U1077   135085       2            2               2\n",
       "1     U1077   135038       2            2               1\n",
       "2     U1077   132825       2            2               2\n",
       "3     U1077   135060       1            2               2\n",
       "4     U1068   135104       1            1               2\n",
       "...     ...      ...     ...          ...             ...\n",
       "1249  U1043   132630       1            1               1\n",
       "1250  U1011   132715       1            1               0\n",
       "1251  U1068   132733       1            1               0\n",
       "1252  U1068   132594       1            1               1\n",
       "1253  U1068   132660       0            0               0\n",
       "\n",
       "[1149 rows x 5 columns]"
      ]
     },
     "execution_count": 84,
     "metadata": {},
     "output_type": "execute_result"
    }
   ],
   "source": [
    "marks.drop_duplicates(subset = ['userID', 'placeID'])"
   ]
  },
  {
   "cell_type": "code",
   "execution_count": 86,
   "id": "738374b6",
   "metadata": {},
   "outputs": [
    {
     "name": "stderr",
     "output_type": "stream",
     "text": [
      "C:\\Users\\harsh\\anaconda3\\lib\\site-packages\\urllib3\\connectionpool.py:1013: InsecureRequestWarning: Unverified HTTPS request is being made to host 'query.data.world'. Adding certificate verification is strongly advised. See: https://urllib3.readthedocs.io/en/latest/advanced-usage.html#ssl-warnings\n",
      "  warnings.warn(\n",
      "C:\\Users\\harsh\\anaconda3\\lib\\site-packages\\urllib3\\connectionpool.py:1013: InsecureRequestWarning: Unverified HTTPS request is being made to host 'download.data.world'. Adding certificate verification is strongly advised. See: https://urllib3.readthedocs.io/en/latest/advanced-usage.html#ssl-warnings\n",
      "  warnings.warn(\n"
     ]
    },
    {
     "name": "stdout",
     "output_type": "stream",
     "text": [
      "(1254, 5)\n",
      "(1149, 5)\n"
     ]
    }
   ],
   "source": [
    "import io\n",
    "import requests\n",
    "import pandas as pd\n",
    "c = requests.get('https://query.data.world/s/EX0EpmqwfA2UYGz1Xtd_zi4R0dQpog', verify=False) # copy the query from above code in the respective query\n",
    "s = c.content\n",
    "rating = pd.read_csv(io.StringIO(s.decode('utf-8')))\n",
    "\n",
    "rating_update = rating.drop_duplicates(subset = ['userID', 'placeID'])\n",
    "\n",
    "print(rating.shape)\n",
    "print(rating_update.shape)"
   ]
  },
  {
   "cell_type": "code",
   "execution_count": 87,
   "id": "e295e958",
   "metadata": {},
   "outputs": [],
   "source": [
    "df = pd.read_csv('C:/Users/harsh/Downloads/pgdai/EDA/datasets/tendulkar_ODI.csv')"
   ]
  },
  {
   "cell_type": "code",
   "execution_count": 88,
   "id": "f7bcb6f5",
   "metadata": {},
   "outputs": [
    {
     "data": {
      "text/html": [
       "<div>\n",
       "<style scoped>\n",
       "    .dataframe tbody tr th:only-of-type {\n",
       "        vertical-align: middle;\n",
       "    }\n",
       "\n",
       "    .dataframe tbody tr th {\n",
       "        vertical-align: top;\n",
       "    }\n",
       "\n",
       "    .dataframe thead th {\n",
       "        text-align: right;\n",
       "    }\n",
       "</style>\n",
       "<table border=\"1\" class=\"dataframe\">\n",
       "  <thead>\n",
       "    <tr style=\"text-align: right;\">\n",
       "      <th></th>\n",
       "      <th>Unnamed: 0</th>\n",
       "      <th>Runs</th>\n",
       "      <th>Mins</th>\n",
       "      <th>BF</th>\n",
       "      <th>4s</th>\n",
       "      <th>6s</th>\n",
       "      <th>SR</th>\n",
       "      <th>Pos</th>\n",
       "      <th>Dismissal</th>\n",
       "      <th>Inns</th>\n",
       "      <th>Opposition</th>\n",
       "      <th>Ground</th>\n",
       "      <th>Start Date</th>\n",
       "    </tr>\n",
       "  </thead>\n",
       "  <tbody>\n",
       "    <tr>\n",
       "      <th>0</th>\n",
       "      <td>1</td>\n",
       "      <td>0</td>\n",
       "      <td>-</td>\n",
       "      <td>2</td>\n",
       "      <td>0</td>\n",
       "      <td>0</td>\n",
       "      <td>0</td>\n",
       "      <td>5</td>\n",
       "      <td>caught</td>\n",
       "      <td>2</td>\n",
       "      <td>v Pakistan</td>\n",
       "      <td>Gujranwala</td>\n",
       "      <td>18-Dec-89</td>\n",
       "    </tr>\n",
       "    <tr>\n",
       "      <th>1</th>\n",
       "      <td>2</td>\n",
       "      <td>0</td>\n",
       "      <td>2</td>\n",
       "      <td>2</td>\n",
       "      <td>0</td>\n",
       "      <td>0</td>\n",
       "      <td>0</td>\n",
       "      <td>5</td>\n",
       "      <td>caught</td>\n",
       "      <td>2</td>\n",
       "      <td>v New Zealand</td>\n",
       "      <td>Dunedin</td>\n",
       "      <td>1-Mar-90</td>\n",
       "    </tr>\n",
       "    <tr>\n",
       "      <th>2</th>\n",
       "      <td>3</td>\n",
       "      <td>36</td>\n",
       "      <td>51</td>\n",
       "      <td>39</td>\n",
       "      <td>5</td>\n",
       "      <td>0</td>\n",
       "      <td>92.3</td>\n",
       "      <td>6</td>\n",
       "      <td>caught</td>\n",
       "      <td>1</td>\n",
       "      <td>v New Zealand</td>\n",
       "      <td>Wellington</td>\n",
       "      <td>6-Mar-90</td>\n",
       "    </tr>\n",
       "    <tr>\n",
       "      <th>3</th>\n",
       "      <td>4</td>\n",
       "      <td>19</td>\n",
       "      <td>38</td>\n",
       "      <td>35</td>\n",
       "      <td>1</td>\n",
       "      <td>1</td>\n",
       "      <td>54.28</td>\n",
       "      <td>4</td>\n",
       "      <td>bowled</td>\n",
       "      <td>2</td>\n",
       "      <td>v England</td>\n",
       "      <td>Leeds</td>\n",
       "      <td>18-Jul-90</td>\n",
       "    </tr>\n",
       "    <tr>\n",
       "      <th>4</th>\n",
       "      <td>5</td>\n",
       "      <td>31</td>\n",
       "      <td>31</td>\n",
       "      <td>26</td>\n",
       "      <td>3</td>\n",
       "      <td>0</td>\n",
       "      <td>119.23</td>\n",
       "      <td>6</td>\n",
       "      <td>bowled</td>\n",
       "      <td>2</td>\n",
       "      <td>v England</td>\n",
       "      <td>Nottingham</td>\n",
       "      <td>20-Jul-90</td>\n",
       "    </tr>\n",
       "  </tbody>\n",
       "</table>\n",
       "</div>"
      ],
      "text/plain": [
       "   Unnamed: 0 Runs Mins  BF 4s 6s      SR Pos Dismissal Inns     Opposition  \\\n",
       "0           1    0    -   2  0  0       0   5    caught    2     v Pakistan   \n",
       "1           2    0    2   2  0  0       0   5    caught    2  v New Zealand   \n",
       "2           3   36   51  39  5  0    92.3   6    caught    1  v New Zealand   \n",
       "3           4   19   38  35  1  1   54.28   4    bowled    2      v England   \n",
       "4           5   31   31  26  3  0  119.23   6    bowled    2      v England   \n",
       "\n",
       "       Ground Start Date  \n",
       "0  Gujranwala  18-Dec-89  \n",
       "1     Dunedin   1-Mar-90  \n",
       "2  Wellington   6-Mar-90  \n",
       "3       Leeds  18-Jul-90  \n",
       "4  Nottingham  20-Jul-90  "
      ]
     },
     "execution_count": 88,
     "metadata": {},
     "output_type": "execute_result"
    }
   ],
   "source": [
    "df.head()"
   ]
  },
  {
   "cell_type": "code",
   "execution_count": 89,
   "id": "37ba3949",
   "metadata": {},
   "outputs": [
    {
     "name": "stdout",
     "output_type": "stream",
     "text": [
      "<class 'pandas.core.frame.DataFrame'>\n",
      "RangeIndex: 295 entries, 0 to 294\n",
      "Data columns (total 13 columns):\n",
      " #   Column      Non-Null Count  Dtype \n",
      "---  ------      --------------  ----- \n",
      " 0   Unnamed: 0  295 non-null    int64 \n",
      " 1   Runs        295 non-null    object\n",
      " 2   Mins        295 non-null    object\n",
      " 3   BF          295 non-null    object\n",
      " 4   4s          295 non-null    object\n",
      " 5   6s          295 non-null    object\n",
      " 6   SR          295 non-null    object\n",
      " 7   Pos         295 non-null    object\n",
      " 8   Dismissal   295 non-null    object\n",
      " 9   Inns        295 non-null    object\n",
      " 10  Opposition  295 non-null    object\n",
      " 11  Ground      295 non-null    object\n",
      " 12  Start Date  295 non-null    object\n",
      "dtypes: int64(1), object(12)\n",
      "memory usage: 30.1+ KB\n"
     ]
    }
   ],
   "source": [
    "df.info()"
   ]
  },
  {
   "cell_type": "code",
   "execution_count": 90,
   "id": "555d3cd2",
   "metadata": {},
   "outputs": [
    {
     "data": {
      "text/plain": [
       "1      16\n",
       "2      14\n",
       "0      12\n",
       "4       9\n",
       "21      8\n",
       "       ..\n",
       "95      1\n",
       "50      1\n",
       "101     1\n",
       "34*     1\n",
       "72      1\n",
       "Name: Runs, Length: 118, dtype: int64"
      ]
     },
     "execution_count": 90,
     "metadata": {},
     "output_type": "execute_result"
    }
   ],
   "source": [
    "df['Runs'].value_counts()"
   ]
  },
  {
   "cell_type": "code",
   "execution_count": 96,
   "id": "cfd3716e",
   "metadata": {},
   "outputs": [],
   "source": [
    "df = df[df['Runs'] != 'DNB']\n"
   ]
  },
  {
   "cell_type": "code",
   "execution_count": 98,
   "id": "f5206c81",
   "metadata": {},
   "outputs": [],
   "source": [
    "df = df[df['Runs'] != 'TDNB']"
   ]
  },
  {
   "cell_type": "code",
   "execution_count": 99,
   "id": "703eb8a1",
   "metadata": {},
   "outputs": [],
   "source": [
    "df['Runs'] = df['Runs'].apply(lambda x: int(x[:-1]) if x[-1]=='*' else int(x), convert_dtype=True)"
   ]
  },
  {
   "cell_type": "code",
   "execution_count": 101,
   "id": "82c65cb0",
   "metadata": {},
   "outputs": [
    {
     "data": {
      "text/plain": [
       "(292, 13)"
      ]
     },
     "execution_count": 101,
     "metadata": {},
     "output_type": "execute_result"
    }
   ],
   "source": [
    "df.shape"
   ]
  },
  {
   "cell_type": "code",
   "execution_count": 102,
   "id": "5bdc2f67",
   "metadata": {},
   "outputs": [
    {
     "data": {
      "text/plain": [
       "1      16\n",
       "2      14\n",
       "0      12\n",
       "4       9\n",
       "21      8\n",
       "       ..\n",
       "89      1\n",
       "90      1\n",
       "91      1\n",
       "94      1\n",
       "200     1\n",
       "Name: Runs, Length: 105, dtype: int64"
      ]
     },
     "execution_count": 102,
     "metadata": {},
     "output_type": "execute_result"
    }
   ],
   "source": [
    "df['Runs'].value_counts()"
   ]
  },
  {
   "cell_type": "code",
   "execution_count": 103,
   "id": "dd83c95e",
   "metadata": {},
   "outputs": [
    {
     "data": {
      "text/plain": [
       "0     69\n",
       "1     37\n",
       "2     29\n",
       "3     25\n",
       "4     17\n",
       "5     16\n",
       "9     15\n",
       "6     14\n",
       "7     13\n",
       "8     13\n",
       "10    11\n",
       "13     8\n",
       "12     5\n",
       "16     4\n",
       "11     4\n",
       "15     4\n",
       "14     3\n",
       "19     2\n",
       "25     1\n",
       "17     1\n",
       "20     1\n",
       "Name: 4s, dtype: int64"
      ]
     },
     "execution_count": 103,
     "metadata": {},
     "output_type": "execute_result"
    }
   ],
   "source": [
    "df['4s'].value_counts()"
   ]
  },
  {
   "cell_type": "code",
   "execution_count": 104,
   "id": "1d8aa280",
   "metadata": {},
   "outputs": [],
   "source": [
    "import seaborn as sns"
   ]
  },
  {
   "cell_type": "code",
   "execution_count": 117,
   "id": "aa2eb73c",
   "metadata": {},
   "outputs": [
    {
     "name": "stderr",
     "output_type": "stream",
     "text": [
      "C:\\Users\\harsh\\anaconda3\\lib\\site-packages\\seaborn\\distributions.py:2557: FutureWarning: `distplot` is a deprecated function and will be removed in a future version. Please adapt your code to use either `displot` (a figure-level function with similar flexibility) or `histplot` (an axes-level function for histograms).\n",
      "  warnings.warn(msg, FutureWarning)\n"
     ]
    },
    {
     "data": {
      "text/plain": [
       "<AxesSubplot:ylabel='Density'>"
      ]
     },
     "execution_count": 117,
     "metadata": {},
     "output_type": "execute_result"
    },
    {
     "data": {
      "image/png": "[encoded data removed]",
      "text/plain": [
       "<Figure size 432x288 with 1 Axes>"
      ]
     },
     "metadata": {
      "needs_background": "light"
     },
     "output_type": "display_data"
    }
   ],
   "source": [
    "sns.distplot(x = df['Runs'], bins = 20)"
   ]
  },
  {
   "cell_type": "code",
   "execution_count": 122,
   "id": "963fe7cd",
   "metadata": {},
   "outputs": [],
   "source": [
    "df['4s'] = df['4s'].astype('int')"
   ]
  },
  {
   "cell_type": "code",
   "execution_count": 124,
   "id": "34d2bd5d",
   "metadata": {},
   "outputs": [
    {
     "data": {
      "text/plain": [
       "count    292.000000\n",
       "mean       4.506849\n",
       "std        4.730172\n",
       "min        0.000000\n",
       "25%        1.000000\n",
       "50%        3.000000\n",
       "75%        7.000000\n",
       "max       25.000000\n",
       "Name: 4s, dtype: float64"
      ]
     },
     "execution_count": 124,
     "metadata": {},
     "output_type": "execute_result"
    }
   ],
   "source": [
    "df['4s'].describe()"
   ]
  },
  {
   "cell_type": "code",
   "execution_count": 125,
   "id": "c9eea2b6",
   "metadata": {},
   "outputs": [
    {
     "data": {
      "text/plain": [
       "69"
      ]
     },
     "execution_count": 125,
     "metadata": {},
     "output_type": "execute_result"
    }
   ],
   "source": [
    "df['4s'].value_counts()"
   ]
  },
  {
   "cell_type": "code",
   "execution_count": 126,
   "id": "406e3e8a",
   "metadata": {},
   "outputs": [],
   "source": [
    "df = pd.read_csv('C:/Users/harsh/Downloads/pgdai/EDA/datasets/popularity.csv')"
   ]
  },
  {
   "cell_type": "code",
   "execution_count": 131,
   "id": "a95bc443",
   "metadata": {},
   "outputs": [
    {
     "data": {
      "text/plain": [
       "Index(['url', ' timedelta', ' n_tokens_title', ' n_tokens_content',\n",
       "       ' n_unique_tokens', ' n_non_stop_words', ' n_non_stop_unique_tokens',\n",
       "       ' num_hrefs', ' num_self_hrefs', ' num_imgs', ' num_videos',\n",
       "       ' average_token_length', ' num_keywords', ' data_channel_is_lifestyle',\n",
       "       ' data_channel_is_entertainment', ' data_channel_is_bus',\n",
       "       ' data_channel_is_socmed', ' data_channel_is_tech',\n",
       "       ' data_channel_is_world', ' kw_min_min', ' kw_max_min', ' kw_avg_min',\n",
       "       ' kw_min_max', ' kw_max_max', ' kw_avg_max', ' kw_min_avg',\n",
       "       ' kw_max_avg', ' kw_avg_avg', ' self_reference_min_shares',\n",
       "       ' self_reference_max_shares', ' self_reference_avg_sharess',\n",
       "       ' weekday_is_monday', ' weekday_is_tuesday', ' weekday_is_wednesday',\n",
       "       ' weekday_is_thursday', ' weekday_is_friday', ' weekday_is_saturday',\n",
       "       ' weekday_is_sunday', ' is_weekend', ' LDA_00', ' LDA_01', ' LDA_02',\n",
       "       ' LDA_03', ' LDA_04', ' global_subjectivity',\n",
       "       ' global_sentiment_polarity', ' global_rate_positive_words',\n",
       "       ' global_rate_negative_words', ' rate_positive_words',\n",
       "       ' rate_negative_words', ' avg_positive_polarity',\n",
       "       ' min_positive_polarity', ' max_positive_polarity',\n",
       "       ' avg_negative_polarity', ' min_negative_polarity',\n",
       "       ' max_negative_polarity', ' title_subjectivity',\n",
       "       ' title_sentiment_polarity', ' abs_title_subjectivity',\n",
       "       ' abs_title_sentiment_polarity', ' shares'],\n",
       "      dtype='object')"
      ]
     },
     "execution_count": 131,
     "metadata": {},
     "output_type": "execute_result"
    }
   ],
   "source": [
    "df.columns"
   ]
  },
  {
   "cell_type": "code",
   "execution_count": 140,
   "id": "919cd595",
   "metadata": {},
   "outputs": [
    {
     "data": {
      "text/plain": [
       "count     39644.000000\n",
       "mean       3395.380184\n",
       "std       11626.950749\n",
       "min           1.000000\n",
       "50%        1400.000000\n",
       "95%       10800.000000\n",
       "max      843300.000000\n",
       "Name:  shares, dtype: float64"
      ]
     },
     "execution_count": 140,
     "metadata": {},
     "output_type": "execute_result"
    }
   ],
   "source": [
    "df[' shares'].describe([0.95])"
   ]
  },
  {
   "cell_type": "code",
   "execution_count": 144,
   "id": "0dcbadc7",
   "metadata": {},
   "outputs": [],
   "source": [
    "df1 = df[df[' shares'] <= 10800]"
   ]
  },
  {
   "cell_type": "code",
   "execution_count": 145,
   "id": "edac92ee",
   "metadata": {},
   "outputs": [
    {
     "data": {
      "text/plain": [
       "count    37663.000000\n",
       "mean      2074.334387\n",
       "std       1871.814139\n",
       "min          1.000000\n",
       "25%        927.000000\n",
       "50%       1400.000000\n",
       "75%       2400.000000\n",
       "max      10800.000000\n",
       "Name:  shares, dtype: float64"
      ]
     },
     "execution_count": 145,
     "metadata": {},
     "output_type": "execute_result"
    }
   ],
   "source": [
    "df1[' shares'].describe()"
   ]
  },
  {
   "cell_type": "code",
   "execution_count": 147,
   "id": "c7a2db46",
   "metadata": {},
   "outputs": [
    {
     "data": {
      "text/plain": [
       "0.04996973060236101"
      ]
     },
     "execution_count": 147,
     "metadata": {},
     "output_type": "execute_result"
    }
   ],
   "source": [
    "(df.shape[0] - df1.shape[0])/39644"
   ]
  },
  {
   "cell_type": "code",
   "execution_count": 148,
   "id": "c64401ac",
   "metadata": {},
   "outputs": [],
   "source": [
    "df = pd.read_csv('C:/Users/harsh/Downloads/pgdai/EDA/datasets/EDA_nas.csv')"
   ]
  },
  {
   "cell_type": "code",
   "execution_count": 149,
   "id": "2aecd80c",
   "metadata": {},
   "outputs": [
    {
     "data": {
      "text/html": [
       "<div>\n",
       "<style scoped>\n",
       "    .dataframe tbody tr th:only-of-type {\n",
       "        vertical-align: middle;\n",
       "    }\n",
       "\n",
       "    .dataframe tbody tr th {\n",
       "        vertical-align: top;\n",
       "    }\n",
       "\n",
       "    .dataframe thead th {\n",
       "        text-align: right;\n",
       "    }\n",
       "</style>\n",
       "<table border=\"1\" class=\"dataframe\">\n",
       "  <thead>\n",
       "    <tr style=\"text-align: right;\">\n",
       "      <th></th>\n",
       "      <th>STUID</th>\n",
       "      <th>State</th>\n",
       "      <th>District</th>\n",
       "      <th>Gender</th>\n",
       "      <th>Age</th>\n",
       "      <th>Category</th>\n",
       "      <th>Same.language</th>\n",
       "      <th>Siblings</th>\n",
       "      <th>Handicap</th>\n",
       "      <th>Father.edu</th>\n",
       "      <th>...</th>\n",
       "      <th>Express.science.views</th>\n",
       "      <th>Watch.TV</th>\n",
       "      <th>Read.magazine</th>\n",
       "      <th>Read.a.book</th>\n",
       "      <th>Play.games</th>\n",
       "      <th>Help.in.household</th>\n",
       "      <th>Maths..</th>\n",
       "      <th>Reading..</th>\n",
       "      <th>Science..</th>\n",
       "      <th>Social..</th>\n",
       "    </tr>\n",
       "  </thead>\n",
       "  <tbody>\n",
       "    <tr>\n",
       "      <th>0</th>\n",
       "      <td>26011001001</td>\n",
       "      <td>Maharashtra</td>\n",
       "      <td>1</td>\n",
       "      <td>Girl</td>\n",
       "      <td>13 years</td>\n",
       "      <td>3.0</td>\n",
       "      <td>2.0</td>\n",
       "      <td>1 sibling</td>\n",
       "      <td>No</td>\n",
       "      <td>Illiterate</td>\n",
       "      <td>...</td>\n",
       "      <td>Agree</td>\n",
       "      <td>Every day</td>\n",
       "      <td>Never</td>\n",
       "      <td>Once a month</td>\n",
       "      <td>Once a week</td>\n",
       "      <td>Every day</td>\n",
       "      <td>NaN</td>\n",
       "      <td>33.33</td>\n",
       "      <td>NaN</td>\n",
       "      <td>NaN</td>\n",
       "    </tr>\n",
       "    <tr>\n",
       "      <th>1</th>\n",
       "      <td>26011001002</td>\n",
       "      <td>Maharashtra</td>\n",
       "      <td>1</td>\n",
       "      <td>Girl</td>\n",
       "      <td>15 years</td>\n",
       "      <td>3.0</td>\n",
       "      <td>2.0</td>\n",
       "      <td>3 siblings</td>\n",
       "      <td>No</td>\n",
       "      <td>NaN</td>\n",
       "      <td>...</td>\n",
       "      <td>Agree</td>\n",
       "      <td>Once a week</td>\n",
       "      <td>Never</td>\n",
       "      <td>Never</td>\n",
       "      <td>Once a week</td>\n",
       "      <td>Every day</td>\n",
       "      <td>NaN</td>\n",
       "      <td>62.07</td>\n",
       "      <td>NaN</td>\n",
       "      <td>NaN</td>\n",
       "    </tr>\n",
       "    <tr>\n",
       "      <th>2</th>\n",
       "      <td>26011001003</td>\n",
       "      <td>Maharashtra</td>\n",
       "      <td>1</td>\n",
       "      <td>Girl</td>\n",
       "      <td>14 years</td>\n",
       "      <td>3.0</td>\n",
       "      <td>2.0</td>\n",
       "      <td>3 siblings</td>\n",
       "      <td>No</td>\n",
       "      <td>Degree &amp; above</td>\n",
       "      <td>...</td>\n",
       "      <td>Agree</td>\n",
       "      <td>Every day</td>\n",
       "      <td>Once a month</td>\n",
       "      <td>Once a month</td>\n",
       "      <td>Once a week</td>\n",
       "      <td>Every day</td>\n",
       "      <td>NaN</td>\n",
       "      <td>41.38</td>\n",
       "      <td>NaN</td>\n",
       "      <td>NaN</td>\n",
       "    </tr>\n",
       "    <tr>\n",
       "      <th>3</th>\n",
       "      <td>26011001004</td>\n",
       "      <td>Maharashtra</td>\n",
       "      <td>1</td>\n",
       "      <td>Boy</td>\n",
       "      <td>13 years</td>\n",
       "      <td>3.0</td>\n",
       "      <td>2.0</td>\n",
       "      <td>3 siblings</td>\n",
       "      <td>No</td>\n",
       "      <td>Secondary</td>\n",
       "      <td>...</td>\n",
       "      <td>Agree</td>\n",
       "      <td>Every day</td>\n",
       "      <td>Every day</td>\n",
       "      <td>Never</td>\n",
       "      <td>Every day</td>\n",
       "      <td>Every day</td>\n",
       "      <td>29.82</td>\n",
       "      <td>NaN</td>\n",
       "      <td>NaN</td>\n",
       "      <td>NaN</td>\n",
       "    </tr>\n",
       "    <tr>\n",
       "      <th>4</th>\n",
       "      <td>26011001005</td>\n",
       "      <td>Maharashtra</td>\n",
       "      <td>1</td>\n",
       "      <td>Girl</td>\n",
       "      <td>14 years</td>\n",
       "      <td>3.0</td>\n",
       "      <td>2.0</td>\n",
       "      <td>2 siblings</td>\n",
       "      <td>No</td>\n",
       "      <td>Primary</td>\n",
       "      <td>...</td>\n",
       "      <td>Neither</td>\n",
       "      <td>Never</td>\n",
       "      <td>Never</td>\n",
       "      <td>Once a month</td>\n",
       "      <td>Once a week</td>\n",
       "      <td>Every day</td>\n",
       "      <td>NaN</td>\n",
       "      <td>NaN</td>\n",
       "      <td>27.27</td>\n",
       "      <td>NaN</td>\n",
       "    </tr>\n",
       "  </tbody>\n",
       "</table>\n",
       "<p>5 rows × 64 columns</p>\n",
       "</div>"
      ],
      "text/plain": [
       "         STUID        State  District Gender       Age  Category  \\\n",
       "0  26011001001  Maharashtra         1   Girl  13 years       3.0   \n",
       "1  26011001002  Maharashtra         1   Girl  15 years       3.0   \n",
       "2  26011001003  Maharashtra         1   Girl  14 years       3.0   \n",
       "3  26011001004  Maharashtra         1    Boy  13 years       3.0   \n",
       "4  26011001005  Maharashtra         1   Girl  14 years       3.0   \n",
       "\n",
       "   Same.language    Siblings Handicap      Father.edu  ...  \\\n",
       "0            2.0   1 sibling       No      Illiterate  ...   \n",
       "1            2.0  3 siblings       No             NaN  ...   \n",
       "2            2.0  3 siblings       No  Degree & above  ...   \n",
       "3            2.0  3 siblings       No       Secondary  ...   \n",
       "4            2.0  2 siblings       No         Primary  ...   \n",
       "\n",
       "  Express.science.views     Watch.TV Read.magazine   Read.a.book   Play.games  \\\n",
       "0                 Agree    Every day         Never  Once a month  Once a week   \n",
       "1                 Agree  Once a week         Never         Never  Once a week   \n",
       "2                 Agree    Every day  Once a month  Once a month  Once a week   \n",
       "3                 Agree    Every day     Every day         Never    Every day   \n",
       "4               Neither        Never         Never  Once a month  Once a week   \n",
       "\n",
       "  Help.in.household Maths.. Reading.. Science.. Social..  \n",
       "0         Every day     NaN     33.33       NaN      NaN  \n",
       "1         Every day     NaN     62.07       NaN      NaN  \n",
       "2         Every day     NaN     41.38       NaN      NaN  \n",
       "3         Every day   29.82       NaN       NaN      NaN  \n",
       "4         Every day     NaN       NaN     27.27      NaN  \n",
       "\n",
       "[5 rows x 64 columns]"
      ]
     },
     "execution_count": 149,
     "metadata": {},
     "output_type": "execute_result"
    }
   ],
   "source": [
    "df.head()"
   ]
  },
  {
   "cell_type": "code",
   "execution_count": 150,
   "id": "08fbe34d",
   "metadata": {},
   "outputs": [],
   "source": [
    "df = pd.read_csv('C:/Users/harsh/Downloads/pgdai/EDA/datasets/census.csv')"
   ]
  },
  {
   "cell_type": "code",
   "execution_count": 151,
   "id": "28770f87",
   "metadata": {},
   "outputs": [
    {
     "data": {
      "text/html": [
       "<div>\n",
       "<style scoped>\n",
       "    .dataframe tbody tr th:only-of-type {\n",
       "        vertical-align: middle;\n",
       "    }\n",
       "\n",
       "    .dataframe tbody tr th {\n",
       "        vertical-align: top;\n",
       "    }\n",
       "\n",
       "    .dataframe thead th {\n",
       "        text-align: right;\n",
       "    }\n",
       "</style>\n",
       "<table border=\"1\" class=\"dataframe\">\n",
       "  <thead>\n",
       "    <tr style=\"text-align: right;\">\n",
       "      <th></th>\n",
       "      <th>c1</th>\n",
       "      <th>c2</th>\n",
       "      <th>c3</th>\n",
       "      <th>Place</th>\n",
       "      <th>Total</th>\n",
       "      <th>Age group</th>\n",
       "      <th>total</th>\n",
       "      <th>total_male</th>\n",
       "      <th>total_female</th>\n",
       "      <th>Illiterate</th>\n",
       "      <th>Illiterate_male</th>\n",
       "      <th>Illiterate_female</th>\n",
       "      <th>Literate</th>\n",
       "      <th>Literate_male</th>\n",
       "      <th>Literate_female</th>\n",
       "      <th>Unnamed: 15</th>\n",
       "    </tr>\n",
       "  </thead>\n",
       "  <tbody>\n",
       "    <tr>\n",
       "      <th>0</th>\n",
       "      <td>C2308</td>\n",
       "      <td>0</td>\n",
       "      <td>0</td>\n",
       "      <td>INDIA</td>\n",
       "      <td>Total</td>\n",
       "      <td>All ages</td>\n",
       "      <td>1210854977</td>\n",
       "      <td>623270258</td>\n",
       "      <td>587584719</td>\n",
       "      <td>447216165</td>\n",
       "      <td>188506636</td>\n",
       "      <td>258709529</td>\n",
       "      <td>763638812</td>\n",
       "      <td>434763622</td>\n",
       "      <td>328875190</td>\n",
       "      <td>NaN</td>\n",
       "    </tr>\n",
       "    <tr>\n",
       "      <th>1</th>\n",
       "      <td>C2308</td>\n",
       "      <td>0</td>\n",
       "      <td>0</td>\n",
       "      <td>INDIA</td>\n",
       "      <td>Total</td>\n",
       "      <td>0-6</td>\n",
       "      <td>164515253</td>\n",
       "      <td>85752254</td>\n",
       "      <td>78762999</td>\n",
       "      <td>164515253</td>\n",
       "      <td>85752254</td>\n",
       "      <td>78762999</td>\n",
       "      <td>0</td>\n",
       "      <td>0</td>\n",
       "      <td>0</td>\n",
       "      <td>NaN</td>\n",
       "    </tr>\n",
       "    <tr>\n",
       "      <th>2</th>\n",
       "      <td>C2308</td>\n",
       "      <td>0</td>\n",
       "      <td>0</td>\n",
       "      <td>INDIA</td>\n",
       "      <td>Total</td>\n",
       "      <td>7</td>\n",
       "      <td>24826640</td>\n",
       "      <td>12903364</td>\n",
       "      <td>11923276</td>\n",
       "      <td>6748214</td>\n",
       "      <td>3388683</td>\n",
       "      <td>3359531</td>\n",
       "      <td>18078426</td>\n",
       "      <td>9514681</td>\n",
       "      <td>8563745</td>\n",
       "      <td>NaN</td>\n",
       "    </tr>\n",
       "    <tr>\n",
       "      <th>3</th>\n",
       "      <td>C2308</td>\n",
       "      <td>0</td>\n",
       "      <td>0</td>\n",
       "      <td>INDIA</td>\n",
       "      <td>Total</td>\n",
       "      <td>8</td>\n",
       "      <td>26968373</td>\n",
       "      <td>14061937</td>\n",
       "      <td>12906436</td>\n",
       "      <td>4131414</td>\n",
       "      <td>2013742</td>\n",
       "      <td>2117672</td>\n",
       "      <td>22836959</td>\n",
       "      <td>12048195</td>\n",
       "      <td>10788764</td>\n",
       "      <td>NaN</td>\n",
       "    </tr>\n",
       "    <tr>\n",
       "      <th>4</th>\n",
       "      <td>C2308</td>\n",
       "      <td>0</td>\n",
       "      <td>0</td>\n",
       "      <td>INDIA</td>\n",
       "      <td>Total</td>\n",
       "      <td>9</td>\n",
       "      <td>23424638</td>\n",
       "      <td>12214985</td>\n",
       "      <td>11209653</td>\n",
       "      <td>2491904</td>\n",
       "      <td>1198339</td>\n",
       "      <td>1293565</td>\n",
       "      <td>20932734</td>\n",
       "      <td>11016646</td>\n",
       "      <td>9916088</td>\n",
       "      <td>NaN</td>\n",
       "    </tr>\n",
       "  </tbody>\n",
       "</table>\n",
       "</div>"
      ],
      "text/plain": [
       "      c1  c2  c3  Place  Total  Age group       total  total_male  \\\n",
       "0  C2308   0   0  INDIA  Total   All ages  1210854977   623270258   \n",
       "1  C2308   0   0  INDIA  Total        0-6   164515253    85752254   \n",
       "2  C2308   0   0  INDIA  Total          7    24826640    12903364   \n",
       "3  C2308   0   0  INDIA  Total          8    26968373    14061937   \n",
       "4  C2308   0   0  INDIA  Total          9    23424638    12214985   \n",
       "\n",
       "   total_female  Illiterate  Illiterate_male  Illiterate_female   Literate  \\\n",
       "0     587584719   447216165        188506636          258709529  763638812   \n",
       "1      78762999   164515253         85752254           78762999          0   \n",
       "2      11923276     6748214          3388683            3359531   18078426   \n",
       "3      12906436     4131414          2013742            2117672   22836959   \n",
       "4      11209653     2491904          1198339            1293565   20932734   \n",
       "\n",
       "   Literate_male  Literate_female  Unnamed: 15  \n",
       "0      434763622        328875190          NaN  \n",
       "1              0                0          NaN  \n",
       "2        9514681          8563745          NaN  \n",
       "3       12048195         10788764          NaN  \n",
       "4       11016646          9916088          NaN  "
      ]
     },
     "execution_count": 151,
     "metadata": {},
     "output_type": "execute_result"
    }
   ],
   "source": [
    "df.head()"
   ]
  },
  {
   "cell_type": "code",
   "execution_count": 155,
   "id": "c46738d6",
   "metadata": {},
   "outputs": [],
   "source": [
    "df1 = df.drop(['Unnamed: 15'], axis =1)"
   ]
  },
  {
   "cell_type": "code",
   "execution_count": 160,
   "id": "51b8e97e",
   "metadata": {},
   "outputs": [
    {
     "data": {
      "text/html": [
       "<div>\n",
       "<style scoped>\n",
       "    .dataframe tbody tr th:only-of-type {\n",
       "        vertical-align: middle;\n",
       "    }\n",
       "\n",
       "    .dataframe tbody tr th {\n",
       "        vertical-align: top;\n",
       "    }\n",
       "\n",
       "    .dataframe thead th {\n",
       "        text-align: right;\n",
       "    }\n",
       "</style>\n",
       "<table border=\"1\" class=\"dataframe\">\n",
       "  <thead>\n",
       "    <tr style=\"text-align: right;\">\n",
       "      <th></th>\n",
       "      <th>c1</th>\n",
       "      <th>c2</th>\n",
       "      <th>c3</th>\n",
       "      <th>Place</th>\n",
       "      <th>Total</th>\n",
       "      <th>Age group</th>\n",
       "      <th>total</th>\n",
       "      <th>total_male</th>\n",
       "      <th>total_female</th>\n",
       "      <th>Illiterate</th>\n",
       "      <th>Illiterate_male</th>\n",
       "      <th>Illiterate_female</th>\n",
       "      <th>Literate</th>\n",
       "      <th>Literate_male</th>\n",
       "      <th>Literate_female</th>\n",
       "    </tr>\n",
       "  </thead>\n",
       "  <tbody>\n",
       "    <tr>\n",
       "      <th>0</th>\n",
       "      <td>C2308</td>\n",
       "      <td>0</td>\n",
       "      <td>0</td>\n",
       "      <td>INDIA</td>\n",
       "      <td>Total</td>\n",
       "      <td>All ages</td>\n",
       "      <td>1210854977</td>\n",
       "      <td>623270258</td>\n",
       "      <td>587584719</td>\n",
       "      <td>447216165</td>\n",
       "      <td>188506636</td>\n",
       "      <td>258709529</td>\n",
       "      <td>763638812</td>\n",
       "      <td>434763622</td>\n",
       "      <td>328875190</td>\n",
       "    </tr>\n",
       "    <tr>\n",
       "      <th>1</th>\n",
       "      <td>C2308</td>\n",
       "      <td>0</td>\n",
       "      <td>0</td>\n",
       "      <td>INDIA</td>\n",
       "      <td>Total</td>\n",
       "      <td>0-6</td>\n",
       "      <td>164515253</td>\n",
       "      <td>85752254</td>\n",
       "      <td>78762999</td>\n",
       "      <td>164515253</td>\n",
       "      <td>85752254</td>\n",
       "      <td>78762999</td>\n",
       "      <td>0</td>\n",
       "      <td>0</td>\n",
       "      <td>0</td>\n",
       "    </tr>\n",
       "    <tr>\n",
       "      <th>2</th>\n",
       "      <td>C2308</td>\n",
       "      <td>0</td>\n",
       "      <td>0</td>\n",
       "      <td>INDIA</td>\n",
       "      <td>Total</td>\n",
       "      <td>7</td>\n",
       "      <td>24826640</td>\n",
       "      <td>12903364</td>\n",
       "      <td>11923276</td>\n",
       "      <td>6748214</td>\n",
       "      <td>3388683</td>\n",
       "      <td>3359531</td>\n",
       "      <td>18078426</td>\n",
       "      <td>9514681</td>\n",
       "      <td>8563745</td>\n",
       "    </tr>\n",
       "    <tr>\n",
       "      <th>3</th>\n",
       "      <td>C2308</td>\n",
       "      <td>0</td>\n",
       "      <td>0</td>\n",
       "      <td>INDIA</td>\n",
       "      <td>Total</td>\n",
       "      <td>8</td>\n",
       "      <td>26968373</td>\n",
       "      <td>14061937</td>\n",
       "      <td>12906436</td>\n",
       "      <td>4131414</td>\n",
       "      <td>2013742</td>\n",
       "      <td>2117672</td>\n",
       "      <td>22836959</td>\n",
       "      <td>12048195</td>\n",
       "      <td>10788764</td>\n",
       "    </tr>\n",
       "    <tr>\n",
       "      <th>4</th>\n",
       "      <td>C2308</td>\n",
       "      <td>0</td>\n",
       "      <td>0</td>\n",
       "      <td>INDIA</td>\n",
       "      <td>Total</td>\n",
       "      <td>9</td>\n",
       "      <td>23424638</td>\n",
       "      <td>12214985</td>\n",
       "      <td>11209653</td>\n",
       "      <td>2491904</td>\n",
       "      <td>1198339</td>\n",
       "      <td>1293565</td>\n",
       "      <td>20932734</td>\n",
       "      <td>11016646</td>\n",
       "      <td>9916088</td>\n",
       "    </tr>\n",
       "  </tbody>\n",
       "</table>\n",
       "</div>"
      ],
      "text/plain": [
       "      c1  c2  c3  Place  Total  Age group       total  total_male  \\\n",
       "0  C2308   0   0  INDIA  Total   All ages  1210854977   623270258   \n",
       "1  C2308   0   0  INDIA  Total        0-6   164515253    85752254   \n",
       "2  C2308   0   0  INDIA  Total          7    24826640    12903364   \n",
       "3  C2308   0   0  INDIA  Total          8    26968373    14061937   \n",
       "4  C2308   0   0  INDIA  Total          9    23424638    12214985   \n",
       "\n",
       "   total_female  Illiterate  Illiterate_male  Illiterate_female   Literate  \\\n",
       "0     587584719   447216165        188506636          258709529  763638812   \n",
       "1      78762999   164515253         85752254           78762999          0   \n",
       "2      11923276     6748214          3388683            3359531   18078426   \n",
       "3      12906436     4131414          2013742            2117672   22836959   \n",
       "4      11209653     2491904          1198339            1293565   20932734   \n",
       "\n",
       "   Literate_male  Literate_female  \n",
       "0      434763622        328875190  \n",
       "1              0                0  \n",
       "2        9514681          8563745  \n",
       "3       12048195         10788764  \n",
       "4       11016646          9916088  "
      ]
     },
     "execution_count": 160,
     "metadata": {},
     "output_type": "execute_result"
    }
   ],
   "source": [
    "df1.head()"
   ]
  },
  {
   "cell_type": "code",
   "execution_count": 171,
   "id": "fd5ec50e",
   "metadata": {},
   "outputs": [
    {
     "data": {
      "text/plain": [
       "0.22683084764727418"
      ]
     },
     "execution_count": 171,
     "metadata": {},
     "output_type": "execute_result"
    }
   ],
   "source": [
    "df1['Illiterate_female'][15] / df1['total_female'][15]"
   ]
  },
  {
   "cell_type": "code",
   "execution_count": 173,
   "id": "43a4bc10",
   "metadata": {},
   "outputs": [],
   "source": [
    "df1['percent_lit'] = df1['Literate']/df1['total']"
   ]
  },
  {
   "cell_type": "code",
   "execution_count": 176,
   "id": "3d7ba3c1",
   "metadata": {},
   "outputs": [
    {
     "data": {
      "text/html": [
       "<div>\n",
       "<style scoped>\n",
       "    .dataframe tbody tr th:only-of-type {\n",
       "        vertical-align: middle;\n",
       "    }\n",
       "\n",
       "    .dataframe tbody tr th {\n",
       "        vertical-align: top;\n",
       "    }\n",
       "\n",
       "    .dataframe thead th {\n",
       "        text-align: right;\n",
       "    }\n",
       "</style>\n",
       "<table border=\"1\" class=\"dataframe\">\n",
       "  <thead>\n",
       "    <tr style=\"text-align: right;\">\n",
       "      <th></th>\n",
       "      <th>Age group</th>\n",
       "      <th>percent_lit</th>\n",
       "    </tr>\n",
       "  </thead>\n",
       "  <tbody>\n",
       "    <tr>\n",
       "      <th>0</th>\n",
       "      <td>All ages</td>\n",
       "      <td>0.630661</td>\n",
       "    </tr>\n",
       "    <tr>\n",
       "      <th>1</th>\n",
       "      <td>0-6</td>\n",
       "      <td>0.000000</td>\n",
       "    </tr>\n",
       "    <tr>\n",
       "      <th>2</th>\n",
       "      <td>7</td>\n",
       "      <td>0.728187</td>\n",
       "    </tr>\n",
       "    <tr>\n",
       "      <th>3</th>\n",
       "      <td>8</td>\n",
       "      <td>0.846805</td>\n",
       "    </tr>\n",
       "    <tr>\n",
       "      <th>4</th>\n",
       "      <td>9</td>\n",
       "      <td>0.893620</td>\n",
       "    </tr>\n",
       "    <tr>\n",
       "      <th>5</th>\n",
       "      <td>10</td>\n",
       "      <td>0.886931</td>\n",
       "    </tr>\n",
       "    <tr>\n",
       "      <th>6</th>\n",
       "      <td>11</td>\n",
       "      <td>0.919628</td>\n",
       "    </tr>\n",
       "    <tr>\n",
       "      <th>7</th>\n",
       "      <td>12</td>\n",
       "      <td>0.914212</td>\n",
       "    </tr>\n",
       "    <tr>\n",
       "      <th>8</th>\n",
       "      <td>13</td>\n",
       "      <td>0.925436</td>\n",
       "    </tr>\n",
       "    <tr>\n",
       "      <th>9</th>\n",
       "      <td>14</td>\n",
       "      <td>0.916828</td>\n",
       "    </tr>\n",
       "    <tr>\n",
       "      <th>10</th>\n",
       "      <td>15</td>\n",
       "      <td>0.899613</td>\n",
       "    </tr>\n",
       "    <tr>\n",
       "      <th>11</th>\n",
       "      <td>16</td>\n",
       "      <td>0.897834</td>\n",
       "    </tr>\n",
       "    <tr>\n",
       "      <th>12</th>\n",
       "      <td>17</td>\n",
       "      <td>0.903926</td>\n",
       "    </tr>\n",
       "    <tr>\n",
       "      <th>13</th>\n",
       "      <td>18</td>\n",
       "      <td>0.866659</td>\n",
       "    </tr>\n",
       "    <tr>\n",
       "      <th>14</th>\n",
       "      <td>19</td>\n",
       "      <td>0.876376</td>\n",
       "    </tr>\n",
       "    <tr>\n",
       "      <th>15</th>\n",
       "      <td>20-24</td>\n",
       "      <td>0.832357</td>\n",
       "    </tr>\n",
       "    <tr>\n",
       "      <th>16</th>\n",
       "      <td>25-29</td>\n",
       "      <td>0.776811</td>\n",
       "    </tr>\n",
       "    <tr>\n",
       "      <th>17</th>\n",
       "      <td>30-34</td>\n",
       "      <td>0.725384</td>\n",
       "    </tr>\n",
       "    <tr>\n",
       "      <th>18</th>\n",
       "      <td>35-39</td>\n",
       "      <td>0.672740</td>\n",
       "    </tr>\n",
       "    <tr>\n",
       "      <th>19</th>\n",
       "      <td>40-44</td>\n",
       "      <td>0.629934</td>\n",
       "    </tr>\n",
       "    <tr>\n",
       "      <th>20</th>\n",
       "      <td>45-49</td>\n",
       "      <td>0.597586</td>\n",
       "    </tr>\n",
       "    <tr>\n",
       "      <th>21</th>\n",
       "      <td>50-54</td>\n",
       "      <td>0.575657</td>\n",
       "    </tr>\n",
       "    <tr>\n",
       "      <th>22</th>\n",
       "      <td>55-59</td>\n",
       "      <td>0.548305</td>\n",
       "    </tr>\n",
       "    <tr>\n",
       "      <th>23</th>\n",
       "      <td>60-64</td>\n",
       "      <td>0.469265</td>\n",
       "    </tr>\n",
       "    <tr>\n",
       "      <th>24</th>\n",
       "      <td>65-69</td>\n",
       "      <td>0.439440</td>\n",
       "    </tr>\n",
       "    <tr>\n",
       "      <th>25</th>\n",
       "      <td>70-74</td>\n",
       "      <td>0.397745</td>\n",
       "    </tr>\n",
       "    <tr>\n",
       "      <th>26</th>\n",
       "      <td>75-79</td>\n",
       "      <td>0.419313</td>\n",
       "    </tr>\n",
       "    <tr>\n",
       "      <th>27</th>\n",
       "      <td>80+</td>\n",
       "      <td>0.389632</td>\n",
       "    </tr>\n",
       "    <tr>\n",
       "      <th>28</th>\n",
       "      <td>Age not stated</td>\n",
       "      <td>0.645594</td>\n",
       "    </tr>\n",
       "    <tr>\n",
       "      <th>29</th>\n",
       "      <td>All ages</td>\n",
       "      <td>0.579064</td>\n",
       "    </tr>\n",
       "  </tbody>\n",
       "</table>\n",
       "</div>"
      ],
      "text/plain": [
       "         Age group  percent_lit\n",
       "0         All ages     0.630661\n",
       "1              0-6     0.000000\n",
       "2                7     0.728187\n",
       "3                8     0.846805\n",
       "4                9     0.893620\n",
       "5               10     0.886931\n",
       "6               11     0.919628\n",
       "7               12     0.914212\n",
       "8               13     0.925436\n",
       "9               14     0.916828\n",
       "10              15     0.899613\n",
       "11              16     0.897834\n",
       "12              17     0.903926\n",
       "13              18     0.866659\n",
       "14              19     0.876376\n",
       "15           20-24     0.832357\n",
       "16           25-29     0.776811\n",
       "17           30-34     0.725384\n",
       "18           35-39     0.672740\n",
       "19           40-44     0.629934\n",
       "20           45-49     0.597586\n",
       "21           50-54     0.575657\n",
       "22           55-59     0.548305\n",
       "23           60-64     0.469265\n",
       "24           65-69     0.439440\n",
       "25           70-74     0.397745\n",
       "26           75-79     0.419313\n",
       "27             80+     0.389632\n",
       "28  Age not stated     0.645594\n",
       "29        All ages     0.579064"
      ]
     },
     "execution_count": 176,
     "metadata": {},
     "output_type": "execute_result"
    }
   ],
   "source": [
    "df1[[' Age group', 'percent_lit']].head(30)"
   ]
  },
  {
   "cell_type": "code",
   "execution_count": 180,
   "id": "38f273cd",
   "metadata": {},
   "outputs": [],
   "source": [
    "df1['female_litrate'] = df1['Literate_female']/ df1['total_female']"
   ]
  },
  {
   "cell_type": "code",
   "execution_count": 188,
   "id": "dcff94d7",
   "metadata": {},
   "outputs": [],
   "source": [
    "gr = df1.groupby('Place')"
   ]
  },
  {
   "cell_type": "code",
   "execution_count": 194,
   "id": "27a1fa74",
   "metadata": {},
   "outputs": [
    {
     "data": {
      "text/plain": [
       "Place\n",
       "INDIA                                0.559707\n",
       "State - ANDAMAN & NICOBAR ISLANDS    0.730989\n",
       "State - ANDHRA PRADESH               0.529337\n",
       "State - ARUNACHAL PRADESH            0.486906\n",
       "State - ASSAM                        0.563950\n",
       "State - BIHAR                        0.419430\n",
       "State - CHANDIGARH                   0.716304\n",
       "State - CHHATTISGARH                 0.516982\n",
       "State - DADRA & NAGAR HAVELI         0.538243\n",
       "State - DAMAN & DIU                  0.686022\n",
       "State - GOA                          0.764054\n",
       "State - GUJARAT                      0.608616\n",
       "State - HARYANA                      0.573929\n",
       "State - HIMACHAL PRADESH             0.676125\n",
       "State - JAMMU & KASHMIR              0.474959\n",
       "State - JHARKHAND                    0.463671\n",
       "State - KARNATAKA                    0.602047\n",
       "State - KERALA                       0.830382\n",
       "State - LAKSHADWEEP                  0.782456\n",
       "State - MADHYA PRADESH               0.504843\n",
       "State - MAHARASHTRA                  0.670531\n",
       "State - MANIPUR                      0.612908\n",
       "State - MEGHALAYA                    0.590571\n",
       "State - MIZORAM                      0.755990\n",
       "State - NAGALAND                     0.648399\n",
       "State - NCT OF DELHI                 0.710574\n",
       "State - ODISHA                       0.561259\n",
       "State - PUDUCHERRY                   0.723797\n",
       "State - PUNJAB                       0.631194\n",
       "State - RAJASTHAN                    0.442061\n",
       "State - SIKKIM                       0.673664\n",
       "State - TAMIL NADU                   0.660862\n",
       "State - TRIPURA                      0.724304\n",
       "State - UTTAR PRADESH                0.484231\n",
       "State - UTTARAKHAND                  0.609727\n",
       "State - WEST BENGAL                  0.623371\n",
       "dtype: float64"
      ]
     },
     "execution_count": 194,
     "metadata": {},
     "output_type": "execute_result"
    }
   ],
   "source": [
    "gr['Literate_female'].sum()/ gr['total_female'].sum()"
   ]
  },
  {
   "cell_type": "code",
   "execution_count": 193,
   "id": "34bc7a17",
   "metadata": {},
   "outputs": [
    {
     "name": "stdout",
     "output_type": "stream",
     "text": [
      "<class 'pandas.core.frame.DataFrame'>\n",
      "RangeIndex: 3132 entries, 0 to 3131\n",
      "Data columns (total 17 columns):\n",
      " #   Column             Non-Null Count  Dtype  \n",
      "---  ------             --------------  -----  \n",
      " 0   c1                 3132 non-null   object \n",
      " 1   c2                 3132 non-null   int64  \n",
      " 2   c3                 3132 non-null   int64  \n",
      " 3   Place              3132 non-null   object \n",
      " 4   Total              3132 non-null   object \n",
      " 5    Age group         3132 non-null   object \n",
      " 6   total              3132 non-null   int64  \n",
      " 7   total_male         3132 non-null   int64  \n",
      " 8   total_female       3132 non-null   int64  \n",
      " 9   Illiterate         3132 non-null   int64  \n",
      " 10  Illiterate_male    3132 non-null   int64  \n",
      " 11  Illiterate_female  3132 non-null   int64  \n",
      " 12  Literate           3132 non-null   int64  \n",
      " 13  Literate_male      3132 non-null   int64  \n",
      " 14  Literate_female    3132 non-null   int64  \n",
      " 15  percent_lit        3132 non-null   float64\n",
      " 16  female_litrate     0 non-null      float64\n",
      "dtypes: float64(2), int64(11), object(4)\n",
      "memory usage: 416.1+ KB\n"
     ]
    }
   ],
   "source": [
    "df1.info()"
   ]
  },
  {
   "cell_type": "code",
   "execution_count": 195,
   "id": "378b0a86",
   "metadata": {},
   "outputs": [],
   "source": [
    "df = pd.read_csv('C:/Users/harsh/Downloads/pgdai/EDA/datasets/EDA_Gold_Silver_prices.csv')"
   ]
  },
  {
   "cell_type": "code",
   "execution_count": 199,
   "id": "e0e06b46",
   "metadata": {},
   "outputs": [
    {
     "data": {
      "text/html": [
       "<div>\n",
       "<style scoped>\n",
       "    .dataframe tbody tr th:only-of-type {\n",
       "        vertical-align: middle;\n",
       "    }\n",
       "\n",
       "    .dataframe tbody tr th {\n",
       "        vertical-align: top;\n",
       "    }\n",
       "\n",
       "    .dataframe thead th {\n",
       "        text-align: right;\n",
       "    }\n",
       "</style>\n",
       "<table border=\"1\" class=\"dataframe\">\n",
       "  <thead>\n",
       "    <tr style=\"text-align: right;\">\n",
       "      <th></th>\n",
       "      <th>Month</th>\n",
       "      <th>SilverPrice</th>\n",
       "      <th>GoldPrice</th>\n",
       "    </tr>\n",
       "  </thead>\n",
       "  <tbody>\n",
       "    <tr>\n",
       "      <th>0</th>\n",
       "      <td>Mar-97</td>\n",
       "      <td>186.48</td>\n",
       "      <td>12619.24</td>\n",
       "    </tr>\n",
       "    <tr>\n",
       "      <th>1</th>\n",
       "      <td>Apr-97</td>\n",
       "      <td>170.65</td>\n",
       "      <td>12338.59</td>\n",
       "    </tr>\n",
       "    <tr>\n",
       "      <th>2</th>\n",
       "      <td>May-97</td>\n",
       "      <td>170.44</td>\n",
       "      <td>12314.94</td>\n",
       "    </tr>\n",
       "    <tr>\n",
       "      <th>3</th>\n",
       "      <td>Jun-97</td>\n",
       "      <td>169.96</td>\n",
       "      <td>12202.78</td>\n",
       "    </tr>\n",
       "    <tr>\n",
       "      <th>4</th>\n",
       "      <td>Jul-97</td>\n",
       "      <td>155.80</td>\n",
       "      <td>11582.07</td>\n",
       "    </tr>\n",
       "    <tr>\n",
       "      <th>...</th>\n",
       "      <td>...</td>\n",
       "      <td>...</td>\n",
       "      <td>...</td>\n",
       "    </tr>\n",
       "    <tr>\n",
       "      <th>226</th>\n",
       "      <td>Jan-16</td>\n",
       "      <td>949.24</td>\n",
       "      <td>73882.06</td>\n",
       "    </tr>\n",
       "    <tr>\n",
       "      <th>227</th>\n",
       "      <td>Feb-16</td>\n",
       "      <td>1035.04</td>\n",
       "      <td>81857.57</td>\n",
       "    </tr>\n",
       "    <tr>\n",
       "      <th>228</th>\n",
       "      <td>Mar-16</td>\n",
       "      <td>1037.05</td>\n",
       "      <td>83496.73</td>\n",
       "    </tr>\n",
       "    <tr>\n",
       "      <th>229</th>\n",
       "      <td>Apr-16</td>\n",
       "      <td>1087.44</td>\n",
       "      <td>82572.44</td>\n",
       "    </tr>\n",
       "    <tr>\n",
       "      <th>230</th>\n",
       "      <td>May-16</td>\n",
       "      <td>1133.52</td>\n",
       "      <td>84340.04</td>\n",
       "    </tr>\n",
       "  </tbody>\n",
       "</table>\n",
       "<p>231 rows × 3 columns</p>\n",
       "</div>"
      ],
      "text/plain": [
       "      Month  SilverPrice  GoldPrice\n",
       "0    Mar-97       186.48   12619.24\n",
       "1    Apr-97       170.65   12338.59\n",
       "2    May-97       170.44   12314.94\n",
       "3    Jun-97       169.96   12202.78\n",
       "4    Jul-97       155.80   11582.07\n",
       "..      ...          ...        ...\n",
       "226  Jan-16       949.24   73882.06\n",
       "227  Feb-16      1035.04   81857.57\n",
       "228  Mar-16      1037.05   83496.73\n",
       "229  Apr-16      1087.44   82572.44\n",
       "230  May-16      1133.52   84340.04\n",
       "\n",
       "[231 rows x 3 columns]"
      ]
     },
     "execution_count": 199,
     "metadata": {},
     "output_type": "execute_result"
    }
   ],
   "source": [
    "df.head(-10)"
   ]
  },
  {
   "cell_type": "code",
   "execution_count": 198,
   "id": "9733eaf1",
   "metadata": {},
   "outputs": [
    {
     "data": {
      "text/html": [
       "<div>\n",
       "<style scoped>\n",
       "    .dataframe tbody tr th:only-of-type {\n",
       "        vertical-align: middle;\n",
       "    }\n",
       "\n",
       "    .dataframe tbody tr th {\n",
       "        vertical-align: top;\n",
       "    }\n",
       "\n",
       "    .dataframe thead th {\n",
       "        text-align: right;\n",
       "    }\n",
       "</style>\n",
       "<table border=\"1\" class=\"dataframe\">\n",
       "  <thead>\n",
       "    <tr style=\"text-align: right;\">\n",
       "      <th></th>\n",
       "      <th>SilverPrice</th>\n",
       "      <th>GoldPrice</th>\n",
       "    </tr>\n",
       "  </thead>\n",
       "  <tbody>\n",
       "    <tr>\n",
       "      <th>SilverPrice</th>\n",
       "      <td>1.000000</td>\n",
       "      <td>0.954067</td>\n",
       "    </tr>\n",
       "    <tr>\n",
       "      <th>GoldPrice</th>\n",
       "      <td>0.954067</td>\n",
       "      <td>1.000000</td>\n",
       "    </tr>\n",
       "  </tbody>\n",
       "</table>\n",
       "</div>"
      ],
      "text/plain": [
       "             SilverPrice  GoldPrice\n",
       "SilverPrice     1.000000   0.954067\n",
       "GoldPrice       0.954067   1.000000"
      ]
     },
     "execution_count": 198,
     "metadata": {},
     "output_type": "execute_result"
    }
   ],
   "source": [
    "df[1:].corr()"
   ]
  },
  {
   "cell_type": "code",
   "execution_count": 203,
   "id": "e8777fd3",
   "metadata": {},
   "outputs": [],
   "source": [
    "df['Month'] = df['Month'].apply(lambda x: x[-2:] )"
   ]
  },
  {
   "cell_type": "code",
   "execution_count": 226,
   "id": "2b89e5d1",
   "metadata": {},
   "outputs": [
    {
     "data": {
      "text/html": [
       "<div>\n",
       "<style scoped>\n",
       "    .dataframe tbody tr th:only-of-type {\n",
       "        vertical-align: middle;\n",
       "    }\n",
       "\n",
       "    .dataframe tbody tr th {\n",
       "        vertical-align: top;\n",
       "    }\n",
       "\n",
       "    .dataframe thead th {\n",
       "        text-align: right;\n",
       "    }\n",
       "</style>\n",
       "<table border=\"1\" class=\"dataframe\">\n",
       "  <thead>\n",
       "    <tr style=\"text-align: right;\">\n",
       "      <th></th>\n",
       "      <th>SilverPrice</th>\n",
       "      <th>GoldPrice</th>\n",
       "    </tr>\n",
       "  </thead>\n",
       "  <tbody>\n",
       "    <tr>\n",
       "      <th>1</th>\n",
       "      <td>170.65</td>\n",
       "      <td>12338.59</td>\n",
       "    </tr>\n",
       "  </tbody>\n",
       "</table>\n",
       "</div>"
      ],
      "text/plain": [
       "   SilverPrice  GoldPrice\n",
       "1       170.65   12338.59"
      ]
     },
     "execution_count": 226,
     "metadata": {},
     "output_type": "execute_result"
    }
   ],
   "source": [
    "df.iloc[1:2,1:]"
   ]
  },
  {
   "cell_type": "code",
   "execution_count": 233,
   "id": "9c7d3284",
   "metadata": {},
   "outputs": [
    {
     "name": "stdout",
     "output_type": "stream",
     "text": [
      "             SilverPrice  GoldPrice\n",
      "SilverPrice     1.000000   0.458854\n",
      "GoldPrice       0.458854   1.000000\n",
      "             SilverPrice  GoldPrice\n",
      "SilverPrice     1.000000  -0.097849\n",
      "GoldPrice      -0.097849   1.000000\n",
      "             SilverPrice  GoldPrice\n",
      "SilverPrice     1.000000   0.426923\n",
      "GoldPrice       0.426923   1.000000\n",
      "             SilverPrice  GoldPrice\n",
      "SilverPrice     1.000000   0.863672\n",
      "GoldPrice       0.863672   1.000000\n"
     ]
    }
   ],
   "source": [
    "for i in ['00','01','02','03']:\n",
    "    print(df[df['Month'] == i].iloc[:, 1:].corr())"
   ]
  },
  {
   "cell_type": "code",
   "execution_count": 234,
   "id": "196461f1",
   "metadata": {},
   "outputs": [],
   "source": [
    "df = pd.read_csv('C:/Users/harsh/Downloads/pgdai/EDA/datasets/currencies.csv')"
   ]
  },
  {
   "cell_type": "code",
   "execution_count": 235,
   "id": "643ca5ac",
   "metadata": {},
   "outputs": [
    {
     "data": {
      "text/html": [
       "<div>\n",
       "<style scoped>\n",
       "    .dataframe tbody tr th:only-of-type {\n",
       "        vertical-align: middle;\n",
       "    }\n",
       "\n",
       "    .dataframe tbody tr th {\n",
       "        vertical-align: top;\n",
       "    }\n",
       "\n",
       "    .dataframe thead th {\n",
       "        text-align: right;\n",
       "    }\n",
       "</style>\n",
       "<table border=\"1\" class=\"dataframe\">\n",
       "  <thead>\n",
       "    <tr style=\"text-align: right;\">\n",
       "      <th></th>\n",
       "      <th>Currency</th>\n",
       "      <th>Chinese Yuan</th>\n",
       "      <th>Euro</th>\n",
       "      <th>Japanese Yen</th>\n",
       "      <th>U.K. Pound Sterling</th>\n",
       "      <th>U.S. Dollar</th>\n",
       "      <th>Algerian Dinar</th>\n",
       "      <th>Australian Dollar</th>\n",
       "      <th>Bahrain Dinar</th>\n",
       "      <th>Botswana Pula</th>\n",
       "      <th>...</th>\n",
       "      <th>South African Rand</th>\n",
       "      <th>Sri Lanka Rupee</th>\n",
       "      <th>Swedish Krona</th>\n",
       "      <th>Swiss Franc</th>\n",
       "      <th>Thai Baht</th>\n",
       "      <th>Trinidad And Tobago Dollar</th>\n",
       "      <th>Tunisian Dinar</th>\n",
       "      <th>U.A.E. Dirham</th>\n",
       "      <th>Peso Uruguayo</th>\n",
       "      <th>Bolivar Fuerte</th>\n",
       "    </tr>\n",
       "  </thead>\n",
       "  <tbody>\n",
       "    <tr>\n",
       "      <th>0</th>\n",
       "      <td>July 01, 2016</td>\n",
       "      <td>9.29446</td>\n",
       "      <td>1.25367</td>\n",
       "      <td>143.645</td>\n",
       "      <td>1.05054</td>\n",
       "      <td>1.39596</td>\n",
       "      <td>NaN</td>\n",
       "      <td>1.87126</td>\n",
       "      <td>0.524882</td>\n",
       "      <td>NaN</td>\n",
       "      <td>...</td>\n",
       "      <td>20.3528</td>\n",
       "      <td>202.763</td>\n",
       "      <td>11.8246</td>\n",
       "      <td>1.36009</td>\n",
       "      <td>NaN</td>\n",
       "      <td>9.28428</td>\n",
       "      <td>3.06035</td>\n",
       "      <td>5.12668</td>\n",
       "      <td>NaN</td>\n",
       "      <td>13.9247</td>\n",
       "    </tr>\n",
       "    <tr>\n",
       "      <th>1</th>\n",
       "      <td>July 05, 2016</td>\n",
       "      <td>9.31515</td>\n",
       "      <td>1.25322</td>\n",
       "      <td>142.715</td>\n",
       "      <td>1.06143</td>\n",
       "      <td>1.39684</td>\n",
       "      <td>154.063</td>\n",
       "      <td>1.85825</td>\n",
       "      <td>0.525213</td>\n",
       "      <td>15.2162</td>\n",
       "      <td>...</td>\n",
       "      <td>20.6240</td>\n",
       "      <td>202.886</td>\n",
       "      <td>11.7627</td>\n",
       "      <td>1.35689</td>\n",
       "      <td>49.0655</td>\n",
       "      <td>9.26724</td>\n",
       "      <td>NaN</td>\n",
       "      <td>5.12992</td>\n",
       "      <td>42.9026</td>\n",
       "      <td>13.9335</td>\n",
       "    </tr>\n",
       "    <tr>\n",
       "      <th>2</th>\n",
       "      <td>July 06, 2016</td>\n",
       "      <td>9.31697</td>\n",
       "      <td>1.25834</td>\n",
       "      <td>140.540</td>\n",
       "      <td>1.07300</td>\n",
       "      <td>1.39286</td>\n",
       "      <td>154.094</td>\n",
       "      <td>1.87313</td>\n",
       "      <td>0.523717</td>\n",
       "      <td>15.2392</td>\n",
       "      <td>...</td>\n",
       "      <td>20.7232</td>\n",
       "      <td>NaN</td>\n",
       "      <td>11.8805</td>\n",
       "      <td>1.36208</td>\n",
       "      <td>49.0692</td>\n",
       "      <td>9.25643</td>\n",
       "      <td>NaN</td>\n",
       "      <td>5.11527</td>\n",
       "      <td>42.6425</td>\n",
       "      <td>13.8938</td>\n",
       "    </tr>\n",
       "    <tr>\n",
       "      <th>3</th>\n",
       "      <td>July 07, 2016</td>\n",
       "      <td>9.31315</td>\n",
       "      <td>1.25737</td>\n",
       "      <td>140.640</td>\n",
       "      <td>1.06911</td>\n",
       "      <td>1.39316</td>\n",
       "      <td>153.957</td>\n",
       "      <td>1.85236</td>\n",
       "      <td>0.523829</td>\n",
       "      <td>15.1430</td>\n",
       "      <td>...</td>\n",
       "      <td>20.4288</td>\n",
       "      <td>202.351</td>\n",
       "      <td>11.9192</td>\n",
       "      <td>1.36098</td>\n",
       "      <td>49.0295</td>\n",
       "      <td>NaN</td>\n",
       "      <td>NaN</td>\n",
       "      <td>5.11637</td>\n",
       "      <td>42.4176</td>\n",
       "      <td>13.8968</td>\n",
       "    </tr>\n",
       "    <tr>\n",
       "      <th>4</th>\n",
       "      <td>July 08, 2016</td>\n",
       "      <td>9.31350</td>\n",
       "      <td>1.25797</td>\n",
       "      <td>140.510</td>\n",
       "      <td>1.07261</td>\n",
       "      <td>1.39257</td>\n",
       "      <td>154.062</td>\n",
       "      <td>1.85974</td>\n",
       "      <td>0.523607</td>\n",
       "      <td>15.1202</td>\n",
       "      <td>...</td>\n",
       "      <td>20.6063</td>\n",
       "      <td>202.271</td>\n",
       "      <td>11.9327</td>\n",
       "      <td>1.36472</td>\n",
       "      <td>49.0408</td>\n",
       "      <td>9.26432</td>\n",
       "      <td>NaN</td>\n",
       "      <td>5.11423</td>\n",
       "      <td>42.2060</td>\n",
       "      <td>13.8909</td>\n",
       "    </tr>\n",
       "  </tbody>\n",
       "</table>\n",
       "<p>5 rows × 52 columns</p>\n",
       "</div>"
      ],
      "text/plain": [
       "        Currency  Chinese Yuan     Euro  Japanese Yen  U.K. Pound Sterling  \\\n",
       "0  July 01, 2016       9.29446  1.25367       143.645              1.05054   \n",
       "1  July 05, 2016       9.31515  1.25322       142.715              1.06143   \n",
       "2  July 06, 2016       9.31697  1.25834       140.540              1.07300   \n",
       "3  July 07, 2016       9.31315  1.25737       140.640              1.06911   \n",
       "4  July 08, 2016       9.31350  1.25797       140.510              1.07261   \n",
       "\n",
       "   U.S. Dollar  Algerian Dinar  Australian Dollar  Bahrain Dinar  \\\n",
       "0      1.39596             NaN            1.87126       0.524882   \n",
       "1      1.39684         154.063            1.85825       0.525213   \n",
       "2      1.39286         154.094            1.87313       0.523717   \n",
       "3      1.39316         153.957            1.85236       0.523829   \n",
       "4      1.39257         154.062            1.85974       0.523607   \n",
       "\n",
       "   Botswana Pula  ...  South African Rand  Sri Lanka Rupee  Swedish Krona  \\\n",
       "0            NaN  ...             20.3528          202.763        11.8246   \n",
       "1        15.2162  ...             20.6240          202.886        11.7627   \n",
       "2        15.2392  ...             20.7232              NaN        11.8805   \n",
       "3        15.1430  ...             20.4288          202.351        11.9192   \n",
       "4        15.1202  ...             20.6063          202.271        11.9327   \n",
       "\n",
       "   Swiss Franc Thai Baht  Trinidad And Tobago Dollar  Tunisian Dinar  \\\n",
       "0      1.36009       NaN                     9.28428         3.06035   \n",
       "1      1.35689   49.0655                     9.26724             NaN   \n",
       "2      1.36208   49.0692                     9.25643             NaN   \n",
       "3      1.36098   49.0295                         NaN             NaN   \n",
       "4      1.36472   49.0408                     9.26432             NaN   \n",
       "\n",
       "   U.A.E. Dirham  Peso Uruguayo  Bolivar Fuerte  \n",
       "0        5.12668            NaN         13.9247  \n",
       "1        5.12992        42.9026         13.9335  \n",
       "2        5.11527        42.6425         13.8938  \n",
       "3        5.11637        42.4176         13.8968  \n",
       "4        5.11423        42.2060         13.8909  \n",
       "\n",
       "[5 rows x 52 columns]"
      ]
     },
     "execution_count": 235,
     "metadata": {},
     "output_type": "execute_result"
    }
   ],
   "source": [
    "df.head()"
   ]
  },
  {
   "cell_type": "code",
   "execution_count": 237,
   "id": "e9a283e4",
   "metadata": {},
   "outputs": [],
   "source": [
    "f = df.corr()"
   ]
  },
  {
   "cell_type": "code",
   "execution_count": 249,
   "id": "c63c5b8a",
   "metadata": {},
   "outputs": [
    {
     "name": "stdout",
     "output_type": "stream",
     "text": [
      "0.8728617382644658\n",
      "0.9214754518981322\n",
      "-0.27012349155025883\n",
      "0.2438507199453358\n"
     ]
    }
   ],
   "source": [
    "for i in ['U.S. Dollar', 'Australian Dollar', 'Japanese Yen', 'Euro']:\n",
    "    print(f['Indian Rupee'][i])"
   ]
  },
  {
   "cell_type": "code",
   "execution_count": 244,
   "id": "b28ba71a",
   "metadata": {},
   "outputs": [
    {
     "data": {
      "image/png": "[encoded data removed]",
      "text/plain": [
       "<Figure size 288x288 with 1 Axes>"
      ]
     },
     "metadata": {
      "needs_background": "light"
     },
     "output_type": "display_data"
    }
   ],
   "source": [
    "import matplotlib.pyplot as plt\n",
    "\n",
    "plt.matshow(df.corr())\n",
    "plt.show()"
   ]
  },
  {
   "cell_type": "code",
   "execution_count": 253,
   "id": "b850d8a3",
   "metadata": {},
   "outputs": [
    {
     "data": {
      "text/html": [
       "<div>\n",
       "<style scoped>\n",
       "    .dataframe tbody tr th:only-of-type {\n",
       "        vertical-align: middle;\n",
       "    }\n",
       "\n",
       "    .dataframe tbody tr th {\n",
       "        vertical-align: top;\n",
       "    }\n",
       "\n",
       "    .dataframe thead th {\n",
       "        text-align: right;\n",
       "    }\n",
       "</style>\n",
       "<table border=\"1\" class=\"dataframe\">\n",
       "  <thead>\n",
       "    <tr style=\"text-align: right;\">\n",
       "      <th></th>\n",
       "      <th>Japanese Yen</th>\n",
       "      <th>U.K. Pound Sterling</th>\n",
       "    </tr>\n",
       "  </thead>\n",
       "  <tbody>\n",
       "    <tr>\n",
       "      <th>Japanese Yen</th>\n",
       "      <td>1.000000</td>\n",
       "      <td>-0.970308</td>\n",
       "    </tr>\n",
       "    <tr>\n",
       "      <th>U.K. Pound Sterling</th>\n",
       "      <td>-0.970308</td>\n",
       "      <td>1.000000</td>\n",
       "    </tr>\n",
       "  </tbody>\n",
       "</table>\n",
       "</div>"
      ],
      "text/plain": [
       "                     Japanese Yen  U.K. Pound Sterling\n",
       "Japanese Yen             1.000000            -0.970308\n",
       "U.K. Pound Sterling     -0.970308             1.000000"
      ]
     },
     "execution_count": 253,
     "metadata": {},
     "output_type": "execute_result"
    }
   ],
   "source": [
    "df[['Japanese Yen', 'U.K. Pound Sterling']].corr()"
   ]
  },
  {
   "cell_type": "code",
   "execution_count": 255,
   "id": "236afedb",
   "metadata": {},
   "outputs": [],
   "source": [
    "df = pd.read_csv('C:/Users/harsh/Downloads/pgdai/EDA/datasets/nas.csv')"
   ]
  },
  {
   "cell_type": "code",
   "execution_count": 256,
   "id": "b8ede766",
   "metadata": {},
   "outputs": [
    {
     "data": {
      "text/html": [
       "<div>\n",
       "<style scoped>\n",
       "    .dataframe tbody tr th:only-of-type {\n",
       "        vertical-align: middle;\n",
       "    }\n",
       "\n",
       "    .dataframe tbody tr th {\n",
       "        vertical-align: top;\n",
       "    }\n",
       "\n",
       "    .dataframe thead th {\n",
       "        text-align: right;\n",
       "    }\n",
       "</style>\n",
       "<table border=\"1\" class=\"dataframe\">\n",
       "  <thead>\n",
       "    <tr style=\"text-align: right;\">\n",
       "      <th></th>\n",
       "      <th>STUID</th>\n",
       "      <th>State</th>\n",
       "      <th>District</th>\n",
       "      <th>Gender</th>\n",
       "      <th>Age</th>\n",
       "      <th>Category</th>\n",
       "      <th>Same.language</th>\n",
       "      <th>Siblings</th>\n",
       "      <th>Handicap</th>\n",
       "      <th>Father.edu</th>\n",
       "      <th>...</th>\n",
       "      <th>Express.science.views</th>\n",
       "      <th>Watch.TV</th>\n",
       "      <th>Read.magazine</th>\n",
       "      <th>Read.a.book</th>\n",
       "      <th>Play.games</th>\n",
       "      <th>Help.in.household</th>\n",
       "      <th>Maths..</th>\n",
       "      <th>Reading..</th>\n",
       "      <th>Science..</th>\n",
       "      <th>Social..</th>\n",
       "    </tr>\n",
       "  </thead>\n",
       "  <tbody>\n",
       "    <tr>\n",
       "      <th>0</th>\n",
       "      <td>26011001001</td>\n",
       "      <td>Maharashtra</td>\n",
       "      <td>1</td>\n",
       "      <td>Girl</td>\n",
       "      <td>13 years</td>\n",
       "      <td>3.0</td>\n",
       "      <td>2.0</td>\n",
       "      <td>1 sibling</td>\n",
       "      <td>No</td>\n",
       "      <td>Illiterate</td>\n",
       "      <td>...</td>\n",
       "      <td>Agree</td>\n",
       "      <td>Every day</td>\n",
       "      <td>Never</td>\n",
       "      <td>Once a month</td>\n",
       "      <td>Once a week</td>\n",
       "      <td>Every day</td>\n",
       "      <td>NaN</td>\n",
       "      <td>33.33</td>\n",
       "      <td>NaN</td>\n",
       "      <td>NaN</td>\n",
       "    </tr>\n",
       "    <tr>\n",
       "      <th>1</th>\n",
       "      <td>26011001002</td>\n",
       "      <td>Maharashtra</td>\n",
       "      <td>1</td>\n",
       "      <td>Girl</td>\n",
       "      <td>15 years</td>\n",
       "      <td>3.0</td>\n",
       "      <td>2.0</td>\n",
       "      <td>3 siblings</td>\n",
       "      <td>No</td>\n",
       "      <td>NaN</td>\n",
       "      <td>...</td>\n",
       "      <td>Agree</td>\n",
       "      <td>Once a week</td>\n",
       "      <td>Never</td>\n",
       "      <td>Never</td>\n",
       "      <td>Once a week</td>\n",
       "      <td>Every day</td>\n",
       "      <td>NaN</td>\n",
       "      <td>62.07</td>\n",
       "      <td>NaN</td>\n",
       "      <td>NaN</td>\n",
       "    </tr>\n",
       "    <tr>\n",
       "      <th>2</th>\n",
       "      <td>26011001003</td>\n",
       "      <td>Maharashtra</td>\n",
       "      <td>1</td>\n",
       "      <td>Girl</td>\n",
       "      <td>14 years</td>\n",
       "      <td>3.0</td>\n",
       "      <td>2.0</td>\n",
       "      <td>3 siblings</td>\n",
       "      <td>No</td>\n",
       "      <td>Degree &amp; above</td>\n",
       "      <td>...</td>\n",
       "      <td>Agree</td>\n",
       "      <td>Every day</td>\n",
       "      <td>Once a month</td>\n",
       "      <td>Once a month</td>\n",
       "      <td>Once a week</td>\n",
       "      <td>Every day</td>\n",
       "      <td>NaN</td>\n",
       "      <td>41.38</td>\n",
       "      <td>NaN</td>\n",
       "      <td>NaN</td>\n",
       "    </tr>\n",
       "    <tr>\n",
       "      <th>3</th>\n",
       "      <td>26011001004</td>\n",
       "      <td>Maharashtra</td>\n",
       "      <td>1</td>\n",
       "      <td>Boy</td>\n",
       "      <td>13 years</td>\n",
       "      <td>3.0</td>\n",
       "      <td>2.0</td>\n",
       "      <td>3 siblings</td>\n",
       "      <td>No</td>\n",
       "      <td>Secondary</td>\n",
       "      <td>...</td>\n",
       "      <td>Agree</td>\n",
       "      <td>Every day</td>\n",
       "      <td>Every day</td>\n",
       "      <td>Never</td>\n",
       "      <td>Every day</td>\n",
       "      <td>Every day</td>\n",
       "      <td>29.82</td>\n",
       "      <td>NaN</td>\n",
       "      <td>NaN</td>\n",
       "      <td>NaN</td>\n",
       "    </tr>\n",
       "    <tr>\n",
       "      <th>4</th>\n",
       "      <td>26011001005</td>\n",
       "      <td>Maharashtra</td>\n",
       "      <td>1</td>\n",
       "      <td>Girl</td>\n",
       "      <td>14 years</td>\n",
       "      <td>3.0</td>\n",
       "      <td>2.0</td>\n",
       "      <td>2 siblings</td>\n",
       "      <td>No</td>\n",
       "      <td>Primary</td>\n",
       "      <td>...</td>\n",
       "      <td>Neither</td>\n",
       "      <td>Never</td>\n",
       "      <td>Never</td>\n",
       "      <td>Once a month</td>\n",
       "      <td>Once a week</td>\n",
       "      <td>Every day</td>\n",
       "      <td>NaN</td>\n",
       "      <td>NaN</td>\n",
       "      <td>27.27</td>\n",
       "      <td>NaN</td>\n",
       "    </tr>\n",
       "  </tbody>\n",
       "</table>\n",
       "<p>5 rows × 64 columns</p>\n",
       "</div>"
      ],
      "text/plain": [
       "         STUID        State  District Gender       Age  Category  \\\n",
       "0  26011001001  Maharashtra         1   Girl  13 years       3.0   \n",
       "1  26011001002  Maharashtra         1   Girl  15 years       3.0   \n",
       "2  26011001003  Maharashtra         1   Girl  14 years       3.0   \n",
       "3  26011001004  Maharashtra         1    Boy  13 years       3.0   \n",
       "4  26011001005  Maharashtra         1   Girl  14 years       3.0   \n",
       "\n",
       "   Same.language    Siblings Handicap      Father.edu  ...  \\\n",
       "0            2.0   1 sibling       No      Illiterate  ...   \n",
       "1            2.0  3 siblings       No             NaN  ...   \n",
       "2            2.0  3 siblings       No  Degree & above  ...   \n",
       "3            2.0  3 siblings       No       Secondary  ...   \n",
       "4            2.0  2 siblings       No         Primary  ...   \n",
       "\n",
       "  Express.science.views     Watch.TV Read.magazine   Read.a.book   Play.games  \\\n",
       "0                 Agree    Every day         Never  Once a month  Once a week   \n",
       "1                 Agree  Once a week         Never         Never  Once a week   \n",
       "2                 Agree    Every day  Once a month  Once a month  Once a week   \n",
       "3                 Agree    Every day     Every day         Never    Every day   \n",
       "4               Neither        Never         Never  Once a month  Once a week   \n",
       "\n",
       "  Help.in.household Maths.. Reading.. Science.. Social..  \n",
       "0         Every day     NaN     33.33       NaN      NaN  \n",
       "1         Every day     NaN     62.07       NaN      NaN  \n",
       "2         Every day     NaN     41.38       NaN      NaN  \n",
       "3         Every day   29.82       NaN       NaN      NaN  \n",
       "4         Every day     NaN       NaN     27.27      NaN  \n",
       "\n",
       "[5 rows x 64 columns]"
      ]
     },
     "execution_count": 256,
     "metadata": {},
     "output_type": "execute_result"
    }
   ],
   "source": [
    "df.head()\n"
   ]
  },
  {
   "cell_type": "code",
   "execution_count": 264,
   "id": "a45f72a1",
   "metadata": {},
   "outputs": [],
   "source": [
    "df2 = df[['Mother.edu', 'Siblings']]"
   ]
  },
  {
   "cell_type": "code",
   "execution_count": 286,
   "id": "d73285a7",
   "metadata": {},
   "outputs": [],
   "source": [
    "grp1 = df2.groupby(by = ['Mother.edu'])['Siblings'].value_counts()\n"
   ]
  },
  {
   "cell_type": "code",
   "execution_count": 287,
   "id": "715c13eb",
   "metadata": {},
   "outputs": [
    {
     "data": {
      "text/plain": [
       "Mother.edu      Siblings    \n",
       "Degree & above  1 sibling         88\n",
       "                2 siblings        36\n",
       "                Single child      20\n",
       "                3 siblings        11\n",
       "                4+ siblings        6\n",
       "Illiterate      2 siblings       923\n",
       "                1 sibling        533\n",
       "                3 siblings       532\n",
       "                4+ siblings      469\n",
       "                Single child      88\n",
       "Primary         2 siblings       771\n",
       "                1 sibling        689\n",
       "                3 siblings       417\n",
       "                4+ siblings      251\n",
       "                Single child      92\n",
       "Secondary       1 sibling       1050\n",
       "                2 siblings       846\n",
       "                3 siblings       348\n",
       "                4+ siblings      255\n",
       "                Single child      92\n",
       "Sr secondary    1 sibling        206\n",
       "                2 siblings       132\n",
       "                3 siblings        48\n",
       "                Single child      24\n",
       "                4+ siblings       23\n",
       "Name: Siblings, dtype: int64"
      ]
     },
     "execution_count": 287,
     "metadata": {},
     "output_type": "execute_result"
    }
   ],
   "source": [
    "grp1"
   ]
  },
  {
   "cell_type": "code",
   "execution_count": 288,
   "id": "c41ed921",
   "metadata": {},
   "outputs": [
    {
     "data": {
      "text/plain": [
       "Index(['STUID', 'State', 'District', 'Gender', 'Age', 'Category',\n",
       "       'Same.language', 'Siblings', 'Handicap', 'Father.edu', 'Mother.edu',\n",
       "       'Father.occupation', 'Mother.occupation', 'Below.poverty',\n",
       "       'Use.calculator', 'Use.computer', 'Use.Internet', 'Use.dictionary',\n",
       "       'Read.other.books', 'X..Books', 'Distance', 'Computer.use',\n",
       "       'Library.use', 'Like.school', 'Subjects', 'Give.Lang.HW',\n",
       "       'Give.Math.HW', 'Give.Scie.HW', 'Give.SoSc.HW', 'Correct.Lang.HW',\n",
       "       'Correct.Math.HW', 'Correct.Scie.HW', 'Correct.SocS.HW',\n",
       "       'Help.in.Study', 'Private.tuition', 'English.is.difficult',\n",
       "       'Read.English', 'Dictionary.to.learn', 'Answer.English.WB',\n",
       "       'Answer.English.aloud', 'Maths.is.difficult', 'Solve.Maths',\n",
       "       'Solve.Maths.in.groups', 'Draw.geometry', 'Explain.answers',\n",
       "       'SocSci.is.difficult', 'Historical.excursions', 'Participate.in.SocSci',\n",
       "       'Small.groups.in.SocSci', 'Express.SocSci.views',\n",
       "       'Science.is.difficult', 'Observe.experiments', 'Conduct.experiments',\n",
       "       'Solve.science.problems', 'Express.science.views', 'Watch.TV',\n",
       "       'Read.magazine', 'Read.a.book', 'Play.games', 'Help.in.household',\n",
       "       'Maths..', 'Reading..', 'Science..', 'Social..'],\n",
       "      dtype='object')"
      ]
     },
     "execution_count": 288,
     "metadata": {},
     "output_type": "execute_result"
    }
   ],
   "source": [
    "df.columns"
   ]
  },
  {
   "cell_type": "code",
   "execution_count": 289,
   "id": "ab2fc30f",
   "metadata": {},
   "outputs": [],
   "source": [
    "df2 = df.groupby(by=['Father.edu','Age'])['Science..'].mean()"
   ]
  },
  {
   "cell_type": "code",
   "execution_count": 290,
   "id": "cec57f67",
   "metadata": {},
   "outputs": [
    {
     "data": {
      "text/plain": [
       "Father.edu      Age      \n",
       "Degree & above  12 years     46.752857\n",
       "                13 years     44.805143\n",
       "                14 years     42.676944\n",
       "                15 years     29.090000\n",
       "                16+ years    32.730000\n",
       "Illiterate      11- years          NaN\n",
       "                12 years     29.870000\n",
       "                13 years     33.758968\n",
       "                14 years     35.319478\n",
       "                15 years     33.413333\n",
       "                16+ years    33.116786\n",
       "Primary         11- years    48.486667\n",
       "                12 years     34.121667\n",
       "                13 years     37.617555\n",
       "                14 years     36.700267\n",
       "                15 years     35.162768\n",
       "                16+ years    32.364000\n",
       "Secondary       11- years    29.696667\n",
       "                12 years     33.593810\n",
       "                13 years     38.164402\n",
       "                14 years     36.738859\n",
       "                15 years     32.872800\n",
       "                16+ years    30.960000\n",
       "Sr secondary    11- years          NaN\n",
       "                12 years     40.113750\n",
       "                13 years     39.046503\n",
       "                14 years     39.050278\n",
       "                15 years     38.615714\n",
       "                16+ years    31.513333\n",
       "Name: Science.., dtype: float64"
      ]
     },
     "execution_count": 290,
     "metadata": {},
     "output_type": "execute_result"
    }
   ],
   "source": [
    "df2"
   ]
  },
  {
   "cell_type": "code",
   "execution_count": 299,
   "id": "7657f5b2",
   "metadata": {},
   "outputs": [
    {
     "data": {
      "text/plain": [
       "Agree       5977\n",
       "Disagree    1763\n",
       "Neither      749\n",
       "Name: Solve.science.problems, dtype: int64"
      ]
     },
     "execution_count": 299,
     "metadata": {},
     "output_type": "execute_result"
    }
   ],
   "source": [
    "df['Solve.science.problems'].value_counts()"
   ]
  },
  {
   "cell_type": "code",
   "execution_count": 300,
   "id": "8f1b6f50",
   "metadata": {},
   "outputs": [],
   "source": [
    "df = pd.read_csv('C:/Users/harsh/Downloads/pgdai/EDA/datasets/odi-batting.csv')"
   ]
  },
  {
   "cell_type": "code",
   "execution_count": 301,
   "id": "a36d811d",
   "metadata": {},
   "outputs": [
    {
     "data": {
      "text/html": [
       "<div>\n",
       "<style scoped>\n",
       "    .dataframe tbody tr th:only-of-type {\n",
       "        vertical-align: middle;\n",
       "    }\n",
       "\n",
       "    .dataframe tbody tr th {\n",
       "        vertical-align: top;\n",
       "    }\n",
       "\n",
       "    .dataframe thead th {\n",
       "        text-align: right;\n",
       "    }\n",
       "</style>\n",
       "<table border=\"1\" class=\"dataframe\">\n",
       "  <thead>\n",
       "    <tr style=\"text-align: right;\">\n",
       "      <th></th>\n",
       "      <th>Country</th>\n",
       "      <th>Player</th>\n",
       "      <th>Runs</th>\n",
       "      <th>MatchDate</th>\n",
       "      <th>Weekday</th>\n",
       "      <th>Ground</th>\n",
       "      <th>Versus</th>\n",
       "      <th>Balls</th>\n",
       "    </tr>\n",
       "  </thead>\n",
       "  <tbody>\n",
       "    <tr>\n",
       "      <th>0</th>\n",
       "      <td>Afghanistan</td>\n",
       "      <td>Mohammad Shahzad</td>\n",
       "      <td>118</td>\n",
       "      <td>16-02-2010</td>\n",
       "      <td>Tue</td>\n",
       "      <td>Sharjah CA Stadium</td>\n",
       "      <td>Canada</td>\n",
       "      <td>121</td>\n",
       "    </tr>\n",
       "    <tr>\n",
       "      <th>1</th>\n",
       "      <td>Afghanistan</td>\n",
       "      <td>Mohammad Shahzad</td>\n",
       "      <td>110</td>\n",
       "      <td>01-09-2009</td>\n",
       "      <td>Tue</td>\n",
       "      <td>VRA Ground</td>\n",
       "      <td>Netherlands</td>\n",
       "      <td>111</td>\n",
       "    </tr>\n",
       "    <tr>\n",
       "      <th>2</th>\n",
       "      <td>Afghanistan</td>\n",
       "      <td>Mohammad Shahzad</td>\n",
       "      <td>100</td>\n",
       "      <td>16-08-2010</td>\n",
       "      <td>Mon</td>\n",
       "      <td>Cambusdoon New Ground</td>\n",
       "      <td>Scotland</td>\n",
       "      <td>72</td>\n",
       "    </tr>\n",
       "    <tr>\n",
       "      <th>3</th>\n",
       "      <td>Afghanistan</td>\n",
       "      <td>Mohammad Shahzad</td>\n",
       "      <td>82</td>\n",
       "      <td>10-07-2010</td>\n",
       "      <td>Sat</td>\n",
       "      <td>Hazelaarweg</td>\n",
       "      <td>Netherlands</td>\n",
       "      <td>108</td>\n",
       "    </tr>\n",
       "    <tr>\n",
       "      <th>4</th>\n",
       "      <td>Afghanistan</td>\n",
       "      <td>Mohammad Shahzad</td>\n",
       "      <td>57</td>\n",
       "      <td>01-07-2010</td>\n",
       "      <td>Thu</td>\n",
       "      <td>Sportpark Westvliet</td>\n",
       "      <td>Canada</td>\n",
       "      <td>57</td>\n",
       "    </tr>\n",
       "  </tbody>\n",
       "</table>\n",
       "</div>"
      ],
      "text/plain": [
       "       Country            Player  Runs   MatchDate Weekday  \\\n",
       "0  Afghanistan  Mohammad Shahzad   118  16-02-2010     Tue   \n",
       "1  Afghanistan  Mohammad Shahzad   110  01-09-2009     Tue   \n",
       "2  Afghanistan  Mohammad Shahzad   100  16-08-2010     Mon   \n",
       "3  Afghanistan  Mohammad Shahzad    82  10-07-2010     Sat   \n",
       "4  Afghanistan  Mohammad Shahzad    57  01-07-2010     Thu   \n",
       "\n",
       "                  Ground       Versus  Balls  \n",
       "0     Sharjah CA Stadium       Canada    121  \n",
       "1             VRA Ground  Netherlands    111  \n",
       "2  Cambusdoon New Ground     Scotland     72  \n",
       "3            Hazelaarweg  Netherlands    108  \n",
       "4    Sportpark Westvliet       Canada     57  "
      ]
     },
     "execution_count": 301,
     "metadata": {},
     "output_type": "execute_result"
    }
   ],
   "source": [
    "df.head()"
   ]
  },
  {
   "cell_type": "code",
   "execution_count": 305,
   "id": "d709c6fe",
   "metadata": {},
   "outputs": [
    {
     "data": {
      "text/plain": [
       "Sachin R Tendulkar     48\n",
       "Ricky T Ponting        30\n",
       "Sanath T Jayasuriya    28\n",
       "Sourav C Ganguly       22\n",
       "Herschelle H Gibbs     21\n",
       "                       ..\n",
       "Mushfiqur Rahim         1\n",
       "Woorkeri V Raman        1\n",
       "Shoaib Mohammad         1\n",
       "Brian C Broad           1\n",
       "James A H Marshall      1\n",
       "Name: Player, Length: 280, dtype: int64"
      ]
     },
     "execution_count": 305,
     "metadata": {},
     "output_type": "execute_result"
    }
   ],
   "source": [
    "df[df['Runs'] >= 100]['Player'].value_counts()"
   ]
  },
  {
   "cell_type": "code",
   "execution_count": 308,
   "id": "3e9a648e",
   "metadata": {},
   "outputs": [
    {
     "ename": "ValueError",
     "evalue": "The truth value of a Series is ambiguous. Use a.empty, a.bool(), a.item(), a.any() or a.all().",
     "output_type": "error",
     "traceback": [
      "\u001b[1;31m---------------------------------------------------------------------------\u001b[0m",
      "\u001b[1;31mValueError\u001b[0m                                Traceback (most recent call last)",
      "\u001b[1;32m<ipython-input-308-ca39df698b3b>\u001b[0m in \u001b[0;36m<module>\u001b[1;34m\u001b[0m\n\u001b[1;32m----> 1\u001b[1;33m \u001b[0mdf\u001b[0m\u001b[1;33m[\u001b[0m\u001b[1;34m'isCentury'\u001b[0m\u001b[1;33m]\u001b[0m \u001b[1;33m=\u001b[0m \u001b[1;36m1\u001b[0m \u001b[1;32mif\u001b[0m \u001b[0mdf\u001b[0m\u001b[1;33m[\u001b[0m\u001b[1;34m'Runs'\u001b[0m\u001b[1;33m]\u001b[0m \u001b[1;33m>=\u001b[0m\u001b[1;36m100\u001b[0m \u001b[1;32melse\u001b[0m \u001b[1;36m0\u001b[0m\u001b[1;33m\u001b[0m\u001b[1;33m\u001b[0m\u001b[0m\n\u001b[0m",
      "\u001b[1;32m~\\anaconda3\\lib\\site-packages\\pandas\\core\\generic.py\u001b[0m in \u001b[0;36m__nonzero__\u001b[1;34m(self)\u001b[0m\n\u001b[0;32m   1440\u001b[0m     \u001b[1;33m@\u001b[0m\u001b[0mfinal\u001b[0m\u001b[1;33m\u001b[0m\u001b[1;33m\u001b[0m\u001b[0m\n\u001b[0;32m   1441\u001b[0m     \u001b[1;32mdef\u001b[0m \u001b[0m__nonzero__\u001b[0m\u001b[1;33m(\u001b[0m\u001b[0mself\u001b[0m\u001b[1;33m)\u001b[0m\u001b[1;33m:\u001b[0m\u001b[1;33m\u001b[0m\u001b[1;33m\u001b[0m\u001b[0m\n\u001b[1;32m-> 1442\u001b[1;33m         raise ValueError(\n\u001b[0m\u001b[0;32m   1443\u001b[0m             \u001b[1;34mf\"The truth value of a {type(self).__name__} is ambiguous. \"\u001b[0m\u001b[1;33m\u001b[0m\u001b[1;33m\u001b[0m\u001b[0m\n\u001b[0;32m   1444\u001b[0m             \u001b[1;34m\"Use a.empty, a.bool(), a.item(), a.any() or a.all().\"\u001b[0m\u001b[1;33m\u001b[0m\u001b[1;33m\u001b[0m\u001b[0m\n",
      "\u001b[1;31mValueError\u001b[0m: The truth value of a Series is ambiguous. Use a.empty, a.bool(), a.item(), a.any() or a.all()."
     ]
    }
   ],
   "source": [
    "df['isCentury'] = df['Runs'] >=100"
   ]
  },
  {
   "cell_type": "code",
   "execution_count": 307,
   "id": "8a7b147d",
   "metadata": {},
   "outputs": [
    {
     "data": {
      "text/plain": [
       "0         True\n",
       "1         True\n",
       "2         True\n",
       "3        False\n",
       "4        False\n",
       "         ...  \n",
       "50279    False\n",
       "50280    False\n",
       "50281    False\n",
       "50282    False\n",
       "50283    False\n",
       "Name: isCentury, Length: 50284, dtype: bool"
      ]
     },
     "execution_count": 307,
     "metadata": {},
     "output_type": "execute_result"
    }
   ],
   "source": [
    "df['isCentury']"
   ]
  },
  {
   "cell_type": "code",
   "execution_count": 309,
   "id": "0a96b17f",
   "metadata": {},
   "outputs": [],
   "source": [
    "df['Str'] = (100 * df['Runs'])/df['Balls']"
   ]
  },
  {
   "cell_type": "code",
   "execution_count": 319,
   "id": "ebaaa317",
   "metadata": {},
   "outputs": [
    {
     "data": {
      "text/html": [
       "<div>\n",
       "<style scoped>\n",
       "    .dataframe tbody tr th:only-of-type {\n",
       "        vertical-align: middle;\n",
       "    }\n",
       "\n",
       "    .dataframe tbody tr th {\n",
       "        vertical-align: top;\n",
       "    }\n",
       "\n",
       "    .dataframe thead th {\n",
       "        text-align: right;\n",
       "    }\n",
       "</style>\n",
       "<table border=\"1\" class=\"dataframe\">\n",
       "  <thead>\n",
       "    <tr style=\"text-align: right;\">\n",
       "      <th></th>\n",
       "      <th>Country</th>\n",
       "      <th>Player</th>\n",
       "      <th>Runs</th>\n",
       "      <th>MatchDate</th>\n",
       "      <th>Weekday</th>\n",
       "      <th>Ground</th>\n",
       "      <th>Versus</th>\n",
       "      <th>Balls</th>\n",
       "      <th>isCentury</th>\n",
       "      <th>Str</th>\n",
       "    </tr>\n",
       "  </thead>\n",
       "  <tbody>\n",
       "    <tr>\n",
       "      <th>2141</th>\n",
       "      <td>Australia</td>\n",
       "      <td>David C Boon</td>\n",
       "      <td>102</td>\n",
       "      <td>10-12-1991</td>\n",
       "      <td>Tue</td>\n",
       "      <td>Bellerive Oval</td>\n",
       "      <td>India</td>\n",
       "      <td>168</td>\n",
       "      <td>True</td>\n",
       "      <td>60.714286</td>\n",
       "    </tr>\n",
       "    <tr>\n",
       "      <th>43591</th>\n",
       "      <td>West Indies</td>\n",
       "      <td>Cuthbert Gordon Greenidge</td>\n",
       "      <td>106</td>\n",
       "      <td>09-06-1979</td>\n",
       "      <td>Sat</td>\n",
       "      <td>Edgbaston</td>\n",
       "      <td>India</td>\n",
       "      <td>173</td>\n",
       "      <td>True</td>\n",
       "      <td>61.271676</td>\n",
       "    </tr>\n",
       "    <tr>\n",
       "      <th>43594</th>\n",
       "      <td>West Indies</td>\n",
       "      <td>Cuthbert Gordon Greenidge</td>\n",
       "      <td>103</td>\n",
       "      <td>21-11-1981</td>\n",
       "      <td>Sat</td>\n",
       "      <td>Melbourne Cricket Ground</td>\n",
       "      <td>Pakistan</td>\n",
       "      <td>161</td>\n",
       "      <td>True</td>\n",
       "      <td>63.975155</td>\n",
       "    </tr>\n",
       "    <tr>\n",
       "      <th>24821</th>\n",
       "      <td>New Zealand</td>\n",
       "      <td>Glenn M Turner</td>\n",
       "      <td>114</td>\n",
       "      <td>14-06-1975</td>\n",
       "      <td>Sat</td>\n",
       "      <td>Old Trafford</td>\n",
       "      <td>India</td>\n",
       "      <td>177</td>\n",
       "      <td>True</td>\n",
       "      <td>64.406780</td>\n",
       "    </tr>\n",
       "    <tr>\n",
       "      <th>28851</th>\n",
       "      <td>Pakistan</td>\n",
       "      <td>Ramiz Raja</td>\n",
       "      <td>102</td>\n",
       "      <td>23-02-1992</td>\n",
       "      <td>Sun</td>\n",
       "      <td>Melbourne Cricket Ground</td>\n",
       "      <td>West Indies</td>\n",
       "      <td>158</td>\n",
       "      <td>True</td>\n",
       "      <td>64.556962</td>\n",
       "    </tr>\n",
       "    <tr>\n",
       "      <th>...</th>\n",
       "      <td>...</td>\n",
       "      <td>...</td>\n",
       "      <td>...</td>\n",
       "      <td>...</td>\n",
       "      <td>...</td>\n",
       "      <td>...</td>\n",
       "      <td>...</td>\n",
       "      <td>...</td>\n",
       "      <td>...</td>\n",
       "      <td>...</td>\n",
       "    </tr>\n",
       "    <tr>\n",
       "      <th>36753</th>\n",
       "      <td>Sri Lanka</td>\n",
       "      <td>Sanath T Jayasuriya</td>\n",
       "      <td>134</td>\n",
       "      <td>02-04-1996</td>\n",
       "      <td>Tue</td>\n",
       "      <td>Padang Cricket Ground</td>\n",
       "      <td>Pakistan</td>\n",
       "      <td>65</td>\n",
       "      <td>True</td>\n",
       "      <td>206.153846</td>\n",
       "    </tr>\n",
       "    <tr>\n",
       "      <th>28153</th>\n",
       "      <td>Pakistan</td>\n",
       "      <td>Shahid Afridi</td>\n",
       "      <td>124</td>\n",
       "      <td>21-06-2010</td>\n",
       "      <td>Mon</td>\n",
       "      <td>Rangiri Dambulla International Stad.</td>\n",
       "      <td>Bangladesh</td>\n",
       "      <td>60</td>\n",
       "      <td>True</td>\n",
       "      <td>206.666667</td>\n",
       "    </tr>\n",
       "    <tr>\n",
       "      <th>34446</th>\n",
       "      <td>South Africa</td>\n",
       "      <td>Mark V Boucher</td>\n",
       "      <td>147</td>\n",
       "      <td>20-09-2006</td>\n",
       "      <td>Wed</td>\n",
       "      <td>Senwes Park</td>\n",
       "      <td>Zimbabwe</td>\n",
       "      <td>68</td>\n",
       "      <td>True</td>\n",
       "      <td>216.176471</td>\n",
       "    </tr>\n",
       "    <tr>\n",
       "      <th>28158</th>\n",
       "      <td>Pakistan</td>\n",
       "      <td>Shahid Afridi</td>\n",
       "      <td>102</td>\n",
       "      <td>15-04-2005</td>\n",
       "      <td>Fri</td>\n",
       "      <td>Green Park</td>\n",
       "      <td>India</td>\n",
       "      <td>46</td>\n",
       "      <td>True</td>\n",
       "      <td>221.739130</td>\n",
       "    </tr>\n",
       "    <tr>\n",
       "      <th>28157</th>\n",
       "      <td>Pakistan</td>\n",
       "      <td>Shahid Afridi</td>\n",
       "      <td>102</td>\n",
       "      <td>04-10-1996</td>\n",
       "      <td>Fri</td>\n",
       "      <td>Gymkhana Club Ground</td>\n",
       "      <td>Sri Lanka</td>\n",
       "      <td>40</td>\n",
       "      <td>True</td>\n",
       "      <td>255.000000</td>\n",
       "    </tr>\n",
       "  </tbody>\n",
       "</table>\n",
       "<p>1161 rows × 10 columns</p>\n",
       "</div>"
      ],
      "text/plain": [
       "            Country                     Player  Runs   MatchDate Weekday  \\\n",
       "2141      Australia               David C Boon   102  10-12-1991     Tue   \n",
       "43591   West Indies  Cuthbert Gordon Greenidge   106  09-06-1979     Sat   \n",
       "43594   West Indies  Cuthbert Gordon Greenidge   103  21-11-1981     Sat   \n",
       "24821   New Zealand             Glenn M Turner   114  14-06-1975     Sat   \n",
       "28851      Pakistan                 Ramiz Raja   102  23-02-1992     Sun   \n",
       "...             ...                        ...   ...         ...     ...   \n",
       "36753     Sri Lanka        Sanath T Jayasuriya   134  02-04-1996     Tue   \n",
       "28153      Pakistan              Shahid Afridi   124  21-06-2010     Mon   \n",
       "34446  South Africa             Mark V Boucher   147  20-09-2006     Wed   \n",
       "28158      Pakistan              Shahid Afridi   102  15-04-2005     Fri   \n",
       "28157      Pakistan              Shahid Afridi   102  04-10-1996     Fri   \n",
       "\n",
       "                                     Ground       Versus  Balls  isCentury  \\\n",
       "2141                         Bellerive Oval        India    168       True   \n",
       "43591                             Edgbaston        India    173       True   \n",
       "43594              Melbourne Cricket Ground     Pakistan    161       True   \n",
       "24821                          Old Trafford        India    177       True   \n",
       "28851              Melbourne Cricket Ground  West Indies    158       True   \n",
       "...                                     ...          ...    ...        ...   \n",
       "36753                 Padang Cricket Ground     Pakistan     65       True   \n",
       "28153  Rangiri Dambulla International Stad.   Bangladesh     60       True   \n",
       "34446                           Senwes Park     Zimbabwe     68       True   \n",
       "28158                            Green Park        India     46       True   \n",
       "28157                  Gymkhana Club Ground    Sri Lanka     40       True   \n",
       "\n",
       "              Str  \n",
       "2141    60.714286  \n",
       "43591   61.271676  \n",
       "43594   63.975155  \n",
       "24821   64.406780  \n",
       "28851   64.556962  \n",
       "...           ...  \n",
       "36753  206.153846  \n",
       "28153  206.666667  \n",
       "34446  216.176471  \n",
       "28158  221.739130  \n",
       "28157  255.000000  \n",
       "\n",
       "[1161 rows x 10 columns]"
      ]
     },
     "execution_count": 319,
     "metadata": {},
     "output_type": "execute_result"
    }
   ],
   "source": [
    "df[df['isCentury'] == True].sort_values('Str')"
   ]
  },
  {
   "cell_type": "code",
   "execution_count": 325,
   "id": "0d839a12",
   "metadata": {},
   "outputs": [
    {
     "ename": "AttributeError",
     "evalue": "'Series' object has no attribute 'year'",
     "output_type": "error",
     "traceback": [
      "\u001b[1;31m---------------------------------------------------------------------------\u001b[0m",
      "\u001b[1;31mAttributeError\u001b[0m                            Traceback (most recent call last)",
      "\u001b[1;32m<ipython-input-325-409139dc081c>\u001b[0m in \u001b[0;36m<module>\u001b[1;34m\u001b[0m\n\u001b[1;32m----> 1\u001b[1;33m \u001b[0mdf\u001b[0m\u001b[1;33m[\u001b[0m\u001b[1;34m'Year'\u001b[0m\u001b[1;33m]\u001b[0m \u001b[1;33m=\u001b[0m \u001b[0mpd\u001b[0m\u001b[1;33m.\u001b[0m\u001b[0mto_datetime\u001b[0m\u001b[1;33m(\u001b[0m\u001b[0mdf\u001b[0m\u001b[1;33m[\u001b[0m\u001b[1;34m'MatchDate'\u001b[0m\u001b[1;33m]\u001b[0m\u001b[1;33m)\u001b[0m\u001b[1;33m.\u001b[0m\u001b[0myear\u001b[0m\u001b[1;33m\u001b[0m\u001b[1;33m\u001b[0m\u001b[0m\n\u001b[0m",
      "\u001b[1;32m~\\anaconda3\\lib\\site-packages\\pandas\\core\\generic.py\u001b[0m in \u001b[0;36m__getattr__\u001b[1;34m(self, name)\u001b[0m\n\u001b[0;32m   5463\u001b[0m             \u001b[1;32mif\u001b[0m \u001b[0mself\u001b[0m\u001b[1;33m.\u001b[0m\u001b[0m_info_axis\u001b[0m\u001b[1;33m.\u001b[0m\u001b[0m_can_hold_identifiers_and_holds_name\u001b[0m\u001b[1;33m(\u001b[0m\u001b[0mname\u001b[0m\u001b[1;33m)\u001b[0m\u001b[1;33m:\u001b[0m\u001b[1;33m\u001b[0m\u001b[1;33m\u001b[0m\u001b[0m\n\u001b[0;32m   5464\u001b[0m                 \u001b[1;32mreturn\u001b[0m \u001b[0mself\u001b[0m\u001b[1;33m[\u001b[0m\u001b[0mname\u001b[0m\u001b[1;33m]\u001b[0m\u001b[1;33m\u001b[0m\u001b[1;33m\u001b[0m\u001b[0m\n\u001b[1;32m-> 5465\u001b[1;33m             \u001b[1;32mreturn\u001b[0m \u001b[0mobject\u001b[0m\u001b[1;33m.\u001b[0m\u001b[0m__getattribute__\u001b[0m\u001b[1;33m(\u001b[0m\u001b[0mself\u001b[0m\u001b[1;33m,\u001b[0m \u001b[0mname\u001b[0m\u001b[1;33m)\u001b[0m\u001b[1;33m\u001b[0m\u001b[1;33m\u001b[0m\u001b[0m\n\u001b[0m\u001b[0;32m   5466\u001b[0m \u001b[1;33m\u001b[0m\u001b[0m\n\u001b[0;32m   5467\u001b[0m     \u001b[1;32mdef\u001b[0m \u001b[0m__setattr__\u001b[0m\u001b[1;33m(\u001b[0m\u001b[0mself\u001b[0m\u001b[1;33m,\u001b[0m \u001b[0mname\u001b[0m\u001b[1;33m:\u001b[0m \u001b[0mstr\u001b[0m\u001b[1;33m,\u001b[0m \u001b[0mvalue\u001b[0m\u001b[1;33m)\u001b[0m \u001b[1;33m->\u001b[0m \u001b[1;32mNone\u001b[0m\u001b[1;33m:\u001b[0m\u001b[1;33m\u001b[0m\u001b[1;33m\u001b[0m\u001b[0m\n",
      "\u001b[1;31mAttributeError\u001b[0m: 'Series' object has no attribute 'year'"
     ]
    }
   ],
   "source": [
    "df['Year'] = pd.to_datetime(df['MatchDate'])"
   ]
  },
  {
   "cell_type": "code",
   "execution_count": 330,
   "id": "6e8fc63f",
   "metadata": {},
   "outputs": [],
   "source": [
    "df['Year'] = df['Year'].dt.year"
   ]
  },
  {
   "cell_type": "code",
   "execution_count": 331,
   "id": "ea5e8c18",
   "metadata": {},
   "outputs": [
    {
     "data": {
      "text/plain": [
       "0        2010\n",
       "1        2009\n",
       "2        2010\n",
       "3        2010\n",
       "4        2010\n",
       "         ... \n",
       "50279    1992\n",
       "50280    1992\n",
       "50281    1993\n",
       "50282    2011\n",
       "50283    2004\n",
       "Name: Year, Length: 50284, dtype: int64"
      ]
     },
     "execution_count": 331,
     "metadata": {},
     "output_type": "execute_result"
    }
   ],
   "source": [
    "df['Year']"
   ]
  },
  {
   "cell_type": "code",
   "execution_count": 333,
   "id": "85eaa13b",
   "metadata": {},
   "outputs": [
    {
     "data": {
      "text/plain": [
       "1998    18\n",
       "1999    15\n",
       "2009    13\n",
       "2010    12\n",
       "2005    11\n",
       "2008    10\n",
       "2003    10\n",
       "2000    10\n",
       "2002     9\n",
       "2001     9\n",
       "1996     8\n",
       "2011     8\n",
       "1997     7\n",
       "1994     7\n",
       "2004     7\n",
       "2006     5\n",
       "2007     5\n",
       "1988     5\n",
       "1987     4\n",
       "1984     3\n",
       "1990     3\n",
       "1993     2\n",
       "1991     2\n",
       "1989     2\n",
       "1986     2\n",
       "1995     1\n",
       "1992     1\n",
       "1983     1\n",
       "Name: Year, dtype: int64"
      ]
     },
     "execution_count": 333,
     "metadata": {},
     "output_type": "execute_result"
    }
   ],
   "source": [
    "df[(df['Country'] == 'India') & (df['isCentury'] == True)]['Year'].value_counts()"
   ]
  },
  {
   "cell_type": "code",
   "execution_count": null,
   "id": "db1461ff",
   "metadata": {},
   "outputs": [],
   "source": [
    "#  grades "
   ]
  },
  {
   "cell_type": "code",
   "execution_count": 348,
   "id": "ee325b45",
   "metadata": {},
   "outputs": [],
   "source": [
    "df = pd.read_csv('C:/Users/harsh/Downloads/pgdai/EDA/datasets/grades.csv')"
   ]
  },
  {
   "cell_type": "code",
   "execution_count": 349,
   "id": "8095cade",
   "metadata": {},
   "outputs": [
    {
     "data": {
      "text/html": [
       "<div>\n",
       "<style scoped>\n",
       "    .dataframe tbody tr th:only-of-type {\n",
       "        vertical-align: middle;\n",
       "    }\n",
       "\n",
       "    .dataframe tbody tr th {\n",
       "        vertical-align: top;\n",
       "    }\n",
       "\n",
       "    .dataframe thead th {\n",
       "        text-align: right;\n",
       "    }\n",
       "</style>\n",
       "<table border=\"1\" class=\"dataframe\">\n",
       "  <thead>\n",
       "    <tr style=\"text-align: right;\">\n",
       "      <th></th>\n",
       "      <th>submission</th>\n",
       "      <th>submit_time</th>\n",
       "    </tr>\n",
       "  </thead>\n",
       "  <tbody>\n",
       "    <tr>\n",
       "      <th>0</th>\n",
       "      <td>https://ckd.upgrad.com/UpGrad/73ba5189-94fd-44...</td>\n",
       "      <td>01/03/17-20:28:52</td>\n",
       "    </tr>\n",
       "    <tr>\n",
       "      <th>1</th>\n",
       "      <td>https://ckd.upgrad.com/UpGrad/185242ff-7508-4c...</td>\n",
       "      <td>01/03/17-20:18:21</td>\n",
       "    </tr>\n",
       "    <tr>\n",
       "      <th>2</th>\n",
       "      <td>https://ckd.upgrad.com/UpGrad/a353d129-c100-43...</td>\n",
       "      <td>01/03/17-22:37:08</td>\n",
       "    </tr>\n",
       "    <tr>\n",
       "      <th>3</th>\n",
       "      <td>https://ckd.upgrad.com/UpGrad/002fc912-faa1-49...</td>\n",
       "      <td>01/02/17-21:43:19</td>\n",
       "    </tr>\n",
       "    <tr>\n",
       "      <th>4</th>\n",
       "      <td>https://ckd.upgrad.com/UpGrad/25cbc4a4-6d49-4f...</td>\n",
       "      <td>01/03/17-15:27:49</td>\n",
       "    </tr>\n",
       "  </tbody>\n",
       "</table>\n",
       "</div>"
      ],
      "text/plain": [
       "                                          submission        submit_time\n",
       "0  https://ckd.upgrad.com/UpGrad/73ba5189-94fd-44...  01/03/17-20:28:52\n",
       "1  https://ckd.upgrad.com/UpGrad/185242ff-7508-4c...  01/03/17-20:18:21\n",
       "2  https://ckd.upgrad.com/UpGrad/a353d129-c100-43...  01/03/17-22:37:08\n",
       "3  https://ckd.upgrad.com/UpGrad/002fc912-faa1-49...  01/02/17-21:43:19\n",
       "4  https://ckd.upgrad.com/UpGrad/25cbc4a4-6d49-4f...  01/03/17-15:27:49"
      ]
     },
     "execution_count": 349,
     "metadata": {},
     "output_type": "execute_result"
    }
   ],
   "source": [
    "df.head()"
   ]
  },
  {
   "cell_type": "code",
   "execution_count": 354,
   "id": "63fa50d7",
   "metadata": {},
   "outputs": [],
   "source": [
    "df['file name'] = df['submission'].apply(lambda x : str(x.split('/')[-1]))"
   ]
  },
  {
   "cell_type": "code",
   "execution_count": 355,
   "id": "d1c08ba2",
   "metadata": {},
   "outputs": [
    {
     "data": {
      "text/html": [
       "<div>\n",
       "<style scoped>\n",
       "    .dataframe tbody tr th:only-of-type {\n",
       "        vertical-align: middle;\n",
       "    }\n",
       "\n",
       "    .dataframe tbody tr th {\n",
       "        vertical-align: top;\n",
       "    }\n",
       "\n",
       "    .dataframe thead th {\n",
       "        text-align: right;\n",
       "    }\n",
       "</style>\n",
       "<table border=\"1\" class=\"dataframe\">\n",
       "  <thead>\n",
       "    <tr style=\"text-align: right;\">\n",
       "      <th></th>\n",
       "      <th>submission</th>\n",
       "      <th>submit_time</th>\n",
       "      <th>file name</th>\n",
       "    </tr>\n",
       "  </thead>\n",
       "  <tbody>\n",
       "    <tr>\n",
       "      <th>0</th>\n",
       "      <td>https://ckd.upgrad.com/UpGrad/73ba5189-94fd-44...</td>\n",
       "      <td>01/03/17-20:28:52</td>\n",
       "      <td>DDA1610095.zip</td>\n",
       "    </tr>\n",
       "    <tr>\n",
       "      <th>1</th>\n",
       "      <td>https://ckd.upgrad.com/UpGrad/185242ff-7508-4c...</td>\n",
       "      <td>01/03/17-20:18:21</td>\n",
       "      <td>DDA1610288.zip</td>\n",
       "    </tr>\n",
       "    <tr>\n",
       "      <th>2</th>\n",
       "      <td>https://ckd.upgrad.com/UpGrad/a353d129-c100-43...</td>\n",
       "      <td>01/03/17-22:37:08</td>\n",
       "      <td>DDA1610106.zip</td>\n",
       "    </tr>\n",
       "    <tr>\n",
       "      <th>3</th>\n",
       "      <td>https://ckd.upgrad.com/UpGrad/002fc912-faa1-49...</td>\n",
       "      <td>01/02/17-21:43:19</td>\n",
       "      <td>DDA1610261.zip</td>\n",
       "    </tr>\n",
       "    <tr>\n",
       "      <th>4</th>\n",
       "      <td>https://ckd.upgrad.com/UpGrad/25cbc4a4-6d49-4f...</td>\n",
       "      <td>01/03/17-15:27:49</td>\n",
       "      <td>DDA1610028.zip</td>\n",
       "    </tr>\n",
       "  </tbody>\n",
       "</table>\n",
       "</div>"
      ],
      "text/plain": [
       "                                          submission        submit_time  \\\n",
       "0  https://ckd.upgrad.com/UpGrad/73ba5189-94fd-44...  01/03/17-20:28:52   \n",
       "1  https://ckd.upgrad.com/UpGrad/185242ff-7508-4c...  01/03/17-20:18:21   \n",
       "2  https://ckd.upgrad.com/UpGrad/a353d129-c100-43...  01/03/17-22:37:08   \n",
       "3  https://ckd.upgrad.com/UpGrad/002fc912-faa1-49...  01/02/17-21:43:19   \n",
       "4  https://ckd.upgrad.com/UpGrad/25cbc4a4-6d49-4f...  01/03/17-15:27:49   \n",
       "\n",
       "        file name  \n",
       "0  DDA1610095.zip  \n",
       "1  DDA1610288.zip  \n",
       "2  DDA1610106.zip  \n",
       "3  DDA1610261.zip  \n",
       "4  DDA1610028.zip  "
      ]
     },
     "execution_count": 355,
     "metadata": {},
     "output_type": "execute_result"
    }
   ],
   "source": [
    "df.head()"
   ]
  },
  {
   "cell_type": "code",
   "execution_count": 356,
   "id": "cdac35d3",
   "metadata": {},
   "outputs": [],
   "source": [
    "df['roll no'] = df['file name'].apply(lambda x: x.split('.')[0])\n",
    "df['file type'] = df['file name'].apply(lambda x: x.split('.')[-1])"
   ]
  },
  {
   "cell_type": "code",
   "execution_count": 358,
   "id": "749a8fc0",
   "metadata": {},
   "outputs": [
    {
     "data": {
      "text/plain": [
       "zip    189\n",
       "R        7\n",
       "7z       2\n",
       "Name: file type, dtype: int64"
      ]
     },
     "execution_count": 358,
     "metadata": {},
     "output_type": "execute_result"
    }
   ],
   "source": [
    "df['file type'].value_counts()"
   ]
  },
  {
   "cell_type": "code",
   "execution_count": 359,
   "id": "fae32cc8",
   "metadata": {},
   "outputs": [
    {
     "data": {
      "text/plain": [
       "0.9545454545454546"
      ]
     },
     "execution_count": 359,
     "metadata": {},
     "output_type": "execute_result"
    }
   ],
   "source": [
    "189/(189+7+2)"
   ]
  },
  {
   "cell_type": "code",
   "execution_count": 361,
   "id": "f7b8e3aa",
   "metadata": {},
   "outputs": [],
   "source": [
    "df['submit_time'] = pd.to_datetime(df['submit_time'])"
   ]
  },
  {
   "cell_type": "code",
   "execution_count": 362,
   "id": "f83f6d94",
   "metadata": {},
   "outputs": [
    {
     "data": {
      "text/plain": [
       "0   2017-01-03 20:28:52\n",
       "1   2017-01-03 20:18:21\n",
       "2   2017-01-03 22:37:08\n",
       "3   2017-01-02 21:43:19\n",
       "4   2017-01-03 15:27:49\n",
       "Name: submit_time, dtype: datetime64[ns]"
      ]
     },
     "execution_count": 362,
     "metadata": {},
     "output_type": "execute_result"
    }
   ],
   "source": [
    "df['submit_time'].head()"
   ]
  },
  {
   "cell_type": "code",
   "execution_count": 363,
   "id": "cde00049",
   "metadata": {},
   "outputs": [],
   "source": [
    "df['s date'] = df['submit_time'].dt.date"
   ]
  },
  {
   "cell_type": "code",
   "execution_count": 365,
   "id": "167e2170",
   "metadata": {},
   "outputs": [
    {
     "data": {
      "text/plain": [
       "0    2017-01-03\n",
       "1    2017-01-03\n",
       "2    2017-01-03\n",
       "3    2017-01-02\n",
       "4    2017-01-03\n",
       "Name: s date, dtype: object"
      ]
     },
     "execution_count": 365,
     "metadata": {},
     "output_type": "execute_result"
    }
   ],
   "source": [
    "df['s date'].head()"
   ]
  },
  {
   "cell_type": "code",
   "execution_count": 366,
   "id": "3b64f613",
   "metadata": {},
   "outputs": [],
   "source": [
    "df['s time'] = df['submit_time'].dt.time"
   ]
  },
  {
   "cell_type": "code",
   "execution_count": 367,
   "id": "14ad231e",
   "metadata": {},
   "outputs": [
    {
     "data": {
      "text/plain": [
       "0    20:28:52\n",
       "1    20:18:21\n",
       "2    22:37:08\n",
       "3    21:43:19\n",
       "4    15:27:49\n",
       "Name: s time, dtype: object"
      ]
     },
     "execution_count": 367,
     "metadata": {},
     "output_type": "execute_result"
    }
   ],
   "source": [
    "df['s time'].head()"
   ]
  },
  {
   "cell_type": "code",
   "execution_count": 375,
   "id": "9ab9c627",
   "metadata": {},
   "outputs": [
    {
     "data": {
      "text/plain": [
       "23:59:21    2\n",
       "23:30:12    2\n",
       "20:03:27    1\n",
       "22:44:20    1\n",
       "20:52:33    1\n",
       "           ..\n",
       "01:46:10    1\n",
       "23:41:23    1\n",
       "00:03:26    1\n",
       "23:21:15    1\n",
       "01:05:45    1\n",
       "Name: s time, Length: 196, dtype: int64"
      ]
     },
     "execution_count": 375,
     "metadata": {},
     "output_type": "execute_result"
    }
   ],
   "source": [
    "import datetime\n",
    "df['s date'].value_counts()"
   ]
  },
  {
   "cell_type": "code",
   "execution_count": 382,
   "id": "61867277",
   "metadata": {},
   "outputs": [],
   "source": [
    "df['s hour'] = df['submit_time'].dt.hour"
   ]
  },
  {
   "cell_type": "code",
   "execution_count": 383,
   "id": "803db1ef",
   "metadata": {},
   "outputs": [
    {
     "data": {
      "text/plain": [
       "0    20\n",
       "1    20\n",
       "2    22\n",
       "3    21\n",
       "4    15\n",
       "Name: s hour, dtype: int64"
      ]
     },
     "execution_count": 383,
     "metadata": {},
     "output_type": "execute_result"
    }
   ],
   "source": [
    "df['s hour'].head()"
   ]
  },
  {
   "cell_type": "code",
   "execution_count": 394,
   "id": "34b0fbab",
   "metadata": {},
   "outputs": [
    {
     "data": {
      "text/plain": [
       "<AxesSubplot:xlabel='s hour', ylabel='Count'>"
      ]
     },
     "execution_count": 394,
     "metadata": {},
     "output_type": "execute_result"
    },
    {
     "data": {
      "image/png": "[encoded data removed]",
      "text/plain": [
       "<Figure size 432x288 with 1 Axes>"
      ]
     },
     "metadata": {
      "needs_background": "light"
     },
     "output_type": "display_data"
    }
   ],
   "source": [
    "sns.histplot(df['s hour'], bins = 24)"
   ]
  },
  {
   "cell_type": "code",
   "execution_count": 389,
   "id": "c6bf5157",
   "metadata": {},
   "outputs": [
    {
     "data": {
      "text/plain": [
       "23    66\n",
       "21    27\n",
       "22    24\n",
       "20    16\n",
       "0     10\n",
       "1      8\n",
       "13     6\n",
       "18     6\n",
       "14     6\n",
       "17     4\n",
       "15     4\n",
       "12     3\n",
       "10     3\n",
       "3      3\n",
       "16     2\n",
       "19     2\n",
       "4      2\n",
       "2      2\n",
       "11     1\n",
       "8      1\n",
       "9      1\n",
       "6      1\n",
       "Name: s hour, dtype: int64"
      ]
     },
     "execution_count": 389,
     "metadata": {},
     "output_type": "execute_result"
    }
   ],
   "source": [
    " df['s hour'].value_counts()"
   ]
  },
  {
   "cell_type": "code",
   "execution_count": null,
   "id": "c94f071f",
   "metadata": {},
   "outputs": [],
   "source": []
  }
 ],
 "metadata": {
  "kernelspec": {
   "display_name": "Python 3",
   "language": "python",
   "name": "python3"
  },
  "language_info": {
   "codemirror_mode": {
    "name": "ipython",
    "version": 3
   },
   "file_extension": ".py",
   "mimetype": "text/x-python",
   "name": "python",
   "nbconvert_exporter": "python",
   "pygments_lexer": "ipython3",
   "version": "3.8.8"
  }
 },
 "nbformat": 4,
 "nbformat_minor": 5
}
